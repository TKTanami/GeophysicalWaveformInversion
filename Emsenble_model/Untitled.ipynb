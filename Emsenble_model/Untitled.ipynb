{
 "cells": [
  {
   "cell_type": "code",
   "execution_count": 1,
   "id": "99e087ba-384b-45be-982f-5c7a9994d301",
   "metadata": {},
   "outputs": [],
   "source": [
    "import numpy as np\n",
    "import os \n",
    "import matplotlib.pyplot as plt\n",
    "import torch\n",
    "import torch.nn as nn\n",
    "import torch.nn.functional as F\n"
   ]
  },
  {
   "cell_type": "code",
   "execution_count": 4,
   "id": "83b25b26-6f08-47ad-991b-ddd37318476a",
   "metadata": {},
   "outputs": [
    {
     "name": "stdout",
     "output_type": "stream",
     "text": [
      "['.ipynb_checkpoints', 'CurveFault_A', 'CurveFault_B', 'CurveVel_A', 'CurveVel_B', 'FlatFault_A', 'FlatFault_B', 'FlatVel_A', 'FlatVel_B', 'Style_A', 'Style_B']\n"
     ]
    }
   ],
   "source": [
    "import os\n",
    "base_dir = \"../models\"  # Kaggle環境における入力データのベースパス\n",
    "print(os.listdir(base_dir))\n"
   ]
  },
  {
   "cell_type": "code",
   "execution_count": 5,
   "id": "2dbbd0fd-a78a-43e1-96da-daec9a7d2aa2",
   "metadata": {},
   "outputs": [
    {
     "name": "stdout",
     "output_type": "stream",
     "text": [
      "models:\n",
      "  .ipynb_checkpoints:\n",
      "  CurveFault_A:\n",
      "    └ curvefault_a_l1_480.pth\n",
      "    └ curvefault_a_l2_480.pth\n",
      "  CurveFault_B:\n",
      "    └ curvefault_b_l1_480.pth\n",
      "    └ curvefault_b_l2_480.pth\n",
      "  CurveVel_A:\n",
      "    └ curvevel_a_l1_480.pth\n",
      "    └ curvevel_a_l2_480.pth\n",
      "  CurveVel_B:\n",
      "    └ curvevel_b_l1_480.pth\n",
      "    └ curvevel_b_l2_480.pth\n",
      "  FlatFault_A:\n",
      "    └ flatfault_a_l1_480.pth\n",
      "    └ flatfault_a_l2_480.pth\n",
      "  FlatFault_B:\n",
      "    └ flatfault_b_l1_480.pth\n",
      "    └ flatfault_b_l2_480.pth\n",
      "  FlatVel_A:\n",
      "    └ flatvel_a_l1_480.pth\n",
      "    └ flatvel_a_l2_480.pth\n",
      "  FlatVel_B:\n",
      "    └ flatvel_b_l1_480.pth\n",
      "    └ flatvel_b_l2_480.pth\n",
      "  Style_A:\n",
      "    └ style_a_l1_480.pth\n",
      "    └ style_a_l2_480.pth\n",
      "  Style_B:\n",
      "    └ style_b_l1_480.pth\n",
      "    └ style_b_l2_480.pth\n"
     ]
    }
   ],
   "source": [
    "for root, dirs, files in os.walk(data_dir):\n",
    "    # ルートディレクトリ名をインデント付きで表示\n",
    "    depth = root.replace(data_dir, \"\").count(os.sep)\n",
    "    indent = \"  \" * depth\n",
    "    print(f\"{indent}{os.path.basename(root) or data_dir}:\")\n",
    "    # すべての .npy ファイルを表示\n",
    "    for f in files:\n",
    "        if f.endswith(\".pth\"):\n",
    "            print(f\"{indent}  └ {f}\")"
   ]
  },
  {
   "cell_type": "code",
   "execution_count": 12,
   "id": "6b6454be-2802-45f5-b75b-41752267812b",
   "metadata": {},
   "outputs": [],
   "source": [
    "import torch\n",
    "import torch.nn as nn\n",
    "\n",
    "class ConvBlock(nn.Module):\n",
    "    def __init__(self, in_channels, out_channels, kernel_size=3, stride=1, padding=1, norm=nn.BatchNorm2d, activation=nn.ReLU):\n",
    "        super().__init__()\n",
    "        self.layers = nn.Sequential(\n",
    "            nn.Conv2d(in_channels, out_channels, kernel_size, stride, padding),\n",
    "            norm(out_channels),\n",
    "            activation()\n",
    "        )\n",
    "    def forward(self, x):\n",
    "        return self.layers(x)\n",
    "\n",
    "class DeconvBlock(nn.Module):\n",
    "    def __init__(self, in_channels, out_channels, kernel_size=3, stride=1, padding=1, output_padding=0, norm=nn.BatchNorm2d, activation=nn.ReLU):\n",
    "        super().__init__()\n",
    "        self.layers = nn.Sequential(\n",
    "            nn.ConvTranspose2d(in_channels, out_channels, kernel_size, stride, padding, output_padding),\n",
    "            norm(out_channels),\n",
    "            activation()\n",
    "        )\n",
    "    def forward(self, x):\n",
    "        return self.layers(x)\n"
   ]
  },
  {
   "cell_type": "markdown",
   "id": "3215589e-d300-474f-9467-302a7c2cf7e9",
   "metadata": {},
   "source": [
    "# VelocityGAN"
   ]
  },
  {
   "cell_type": "code",
   "execution_count": 13,
   "id": "9b2c1cb8-b2f0-4f65-baf5-122a89a3f722",
   "metadata": {},
   "outputs": [],
   "source": [
    "import torch.nn as nn\n",
    "\n",
    "class VelocityGAN(nn.Module):\n",
    "    def __init__(self, in_channels=1, out_channels=1, base_c=32, norm=nn.BatchNorm2d, activation=nn.ReLU):\n",
    "        super().__init__()\n",
    "        # Encoder\n",
    "        self.convblock1 = ConvBlock(in_channels, base_c, norm=norm, activation=activation)\n",
    "        self.convblock2_1 = ConvBlock(base_c, base_c*2, stride=2, norm=norm, activation=activation)\n",
    "        self.convblock2_2 = ConvBlock(base_c*2, base_c*2, norm=norm, activation=activation)\n",
    "        self.convblock3_1 = ConvBlock(base_c*2, base_c*4, stride=2, norm=norm, activation=activation)\n",
    "        self.convblock3_2 = ConvBlock(base_c*4, base_c*4, norm=norm, activation=activation)\n",
    "        self.convblock4_1 = ConvBlock(base_c*4, base_c*8, stride=2, norm=norm, activation=activation)\n",
    "        self.convblock4_2 = ConvBlock(base_c*8, base_c*8, norm=norm, activation=activation)\n",
    "        self.convblock5_1 = ConvBlock(base_c*8, base_c*8, stride=2, norm=norm, activation=activation)\n",
    "        self.convblock5_2 = ConvBlock(base_c*8, base_c*8, norm=norm, activation=activation)\n",
    "        self.convblock6_1 = ConvBlock(base_c*8, base_c*8, stride=2, norm=norm, activation=activation)\n",
    "        self.convblock6_2 = ConvBlock(base_c*8, base_c*8, norm=norm, activation=activation)\n",
    "        self.convblock7_1 = ConvBlock(base_c*8, base_c*8, stride=2, norm=norm, activation=activation)\n",
    "        self.convblock7_2 = ConvBlock(base_c*8, base_c*8, norm=norm, activation=activation)\n",
    "        self.convblock8 = ConvBlock(base_c*8, base_c*8, norm=norm, activation=activation)\n",
    "\n",
    "        # Decoder\n",
    "        self.deconv1_1 = DeconvBlock(base_c*8, base_c*8, stride=2, output_padding=1, norm=norm, activation=activation)\n",
    "        self.deconv1_2 = DeconvBlock(base_c*16, base_c*8, norm=norm, activation=activation)\n",
    "        self.deconv2_1 = DeconvBlock(base_c*8, base_c*8, stride=2, output_padding=1, norm=norm, activation=activation)\n",
    "        self.deconv2_2 = DeconvBlock(base_c*16, base_c*8, norm=norm, activation=activation)\n",
    "        self.deconv3_1 = DeconvBlock(base_c*8, base_c*8, stride=2, output_padding=1, norm=norm, activation=activation)\n",
    "        self.deconv3_2 = DeconvBlock(base_c*16, base_c*8, norm=norm, activation=activation)\n",
    "        self.deconv4_1 = DeconvBlock(base_c*8, base_c*8, stride=2, output_padding=1, norm=norm, activation=activation)\n",
    "        self.deconv4_2 = DeconvBlock(base_c*16, base_c*4, norm=norm, activation=activation)\n",
    "        self.deconv5_1 = DeconvBlock(base_c*4, base_c*4, stride=2, output_padding=1, norm=norm, activation=activation)\n",
    "        self.deconv5_2 = DeconvBlock(base_c*8, base_c*2, norm=norm, activation=activation)\n",
    "        self.deconv6 = DeconvBlock(base_c*2, base_c, stride=2, output_padding=1, norm=norm, activation=activation)\n",
    "\n",
    "        self.final = nn.Conv2d(base_c, out_channels, 3, 1, 1)\n",
    "\n",
    "    def forward(self, x):\n",
    "        # Encoder\n",
    "        x1 = self.convblock1(x)\n",
    "        x2 = self.convblock2_1(x1)\n",
    "        x2 = self.convblock2_2(x2)\n",
    "        x3 = self.convblock3_1(x2)\n",
    "        x3 = self.convblock3_2(x3)\n",
    "        x4 = self.convblock4_1(x3)\n",
    "        x4 = self.convblock4_2(x4)\n",
    "        x5 = self.convblock5_1(x4)\n",
    "        x5 = self.convblock5_2(x5)\n",
    "        x6 = self.convblock6_1(x5)\n",
    "        x6 = self.convblock6_2(x6)\n",
    "        x7 = self.convblock7_1(x6)\n",
    "        x7 = self.convblock7_2(x7)\n",
    "        x8 = self.convblock8(x7)\n",
    "        # Decoder\n",
    "        d1 = self.deconv1_1(x8)\n",
    "        d1 = torch.cat([d1, x7], dim=1)\n",
    "        d1 = self.deconv1_2(d1)\n",
    "        d2 = self.deconv2_1(d1)\n",
    "        d2 = torch.cat([d2, x6], dim=1)\n",
    "        d2 = self.deconv2_2(d2)\n",
    "        d3 = self.deconv3_1(d2)\n",
    "        d3 = torch.cat([d3, x5], dim=1)\n",
    "        d3 = self.deconv3_2(d3)\n",
    "        d4 = self.deconv4_1(d3)\n",
    "        d4 = torch.cat([d4, x4], dim=1)\n",
    "        d4 = self.deconv4_2(d4)\n",
    "        d5 = self.deconv5_1(d4)\n",
    "        d5 = torch.cat([d5, x3], dim=1)\n",
    "        d5 = self.deconv5_2(d5)\n",
    "        d6 = self.deconv6(d5)\n",
    "        d6 = torch.cat([d6, x2], dim=1)\n",
    "        out = self.final(d6)\n",
    "        return out\n"
   ]
  },
  {
   "cell_type": "code",
   "execution_count": 14,
   "id": "85f8ab75-c392-43b1-a4db-231f630bbdd1",
   "metadata": {},
   "outputs": [
    {
     "name": "stdout",
     "output_type": "stream",
     "text": [
      "Found 20 model files to ensemble.\n"
     ]
    }
   ],
   "source": [
    "import os\n",
    "import torch\n",
    "\n",
    "def collect_model_paths(root):\n",
    "    model_files = []\n",
    "    for subdir, _, files in os.walk(root):\n",
    "        for f in files:\n",
    "            if f.endswith('.pth'):\n",
    "                model_files.append(os.path.join(subdir, f))\n",
    "    return sorted(model_files)\n",
    "\n",
    "def build_ensemble(model_paths, device='cuda'):\n",
    "    base_model = VelocityGAN().to(device)\n",
    "    state_dicts = []\n",
    "    for path in model_paths:\n",
    "        sd = torch.load(path, map_location=device, weights_only=False)\n",
    "        # --- state_dictの在りかを自動判定 ---\n",
    "        if 'model' in sd:\n",
    "            # OpenFWI/VelocityGAN公式checkpoint\n",
    "            state_dicts.append(sd['model'])\n",
    "        elif 'state_dict' in sd:\n",
    "            state_dicts.append(sd['state_dict'])\n",
    "        elif 'model_state_dict' in sd:\n",
    "            state_dicts.append(sd['model_state_dict'])\n",
    "        else:\n",
    "            # すでにstate_dictそのもの\n",
    "            state_dicts.append(sd)\n",
    "    # --- 平均化 ---\n",
    "    avg_state = {}\n",
    "    keys = state_dicts[0].keys()\n",
    "    for key in keys:\n",
    "        if isinstance(state_dicts[0][key], torch.Tensor):\n",
    "            stacked = torch.stack([sd[key].float() for sd in state_dicts], dim=0)\n",
    "            avg_state[key] = torch.mean(stacked, dim=0)\n",
    "        else:\n",
    "            avg_state[key] = state_dicts[0][key]\n",
    "    # --- ロード ---\n",
    "    base_model.load_state_dict(avg_state)\n",
    "    return base_model\n",
    "\n",
    "\n",
    "\n",
    "\n",
    "# 使用例\n",
    "device = 'cuda' if torch.cuda.is_available() else 'cpu'\n",
    "dir_root = \"../models\"\n",
    "paths = collect_model_paths(dir_root)\n",
    "print(f\"Found {len(paths)} model files to ensemble.\")\n",
    "\n",
    "\n"
   ]
  },
  {
   "cell_type": "code",
   "execution_count": 15,
   "id": "91794c8d-beac-4ff9-ac5a-13b4cfb9fd89",
   "metadata": {},
   "outputs": [
    {
     "name": "stdout",
     "output_type": "stream",
     "text": [
      "Found .pth files:\n",
      "../models/CurveFault_A/curvefault_a_l1_480.pth\n",
      "../models/CurveFault_A/curvefault_a_l2_480.pth\n",
      "../models/CurveFault_B/curvefault_b_l1_480.pth\n",
      "../models/CurveFault_B/curvefault_b_l2_480.pth\n",
      "../models/CurveVel_A/curvevel_a_l1_480.pth\n",
      "../models/CurveVel_A/curvevel_a_l2_480.pth\n",
      "../models/CurveVel_B/curvevel_b_l1_480.pth\n",
      "../models/CurveVel_B/curvevel_b_l2_480.pth\n",
      "../models/FlatFault_A/flatfault_a_l1_480.pth\n",
      "../models/FlatFault_A/flatfault_a_l2_480.pth\n",
      "../models/FlatFault_B/flatfault_b_l1_480.pth\n",
      "../models/FlatFault_B/flatfault_b_l2_480.pth\n",
      "../models/FlatVel_A/flatvel_a_l1_480.pth\n",
      "../models/FlatVel_A/flatvel_a_l2_480.pth\n",
      "../models/FlatVel_B/flatvel_b_l1_480.pth\n",
      "../models/FlatVel_B/flatvel_b_l2_480.pth\n",
      "../models/Style_A/style_a_l1_480.pth\n",
      "../models/Style_A/style_a_l2_480.pth\n",
      "../models/Style_B/style_b_l1_480.pth\n",
      "../models/Style_B/style_b_l2_480.pth\n",
      "Total: 20\n"
     ]
    }
   ],
   "source": [
    "dir_root = \"../models\"\n",
    "\n",
    "# ファイル探索で確認\n",
    "import os\n",
    "paths = []\n",
    "for subdir, _, files in os.walk(dir_root):\n",
    "    for f in files:\n",
    "        if f.endswith('.pth'):\n",
    "            paths.append(os.path.join(subdir, f))\n",
    "print(\"Found .pth files:\")\n",
    "for p in paths:\n",
    "    print(p)\n",
    "print(f\"Total: {len(paths)}\")\n"
   ]
  },
  {
   "cell_type": "code",
   "execution_count": 16,
   "id": "27f7bdc3-0bec-4c38-8f23-f29e449f859e",
   "metadata": {},
   "outputs": [
    {
     "ename": "RuntimeError",
     "evalue": "Error(s) in loading state_dict for VelocityGAN:\n\tMissing key(s) in state_dict: \"final.weight\", \"final.bias\". \n\tsize mismatch for convblock1.layers.0.weight: copying a param with shape torch.Size([32, 5, 7, 1]) from checkpoint, the shape in current model is torch.Size([32, 1, 3, 3]).\n\tsize mismatch for convblock2_1.layers.0.weight: copying a param with shape torch.Size([64, 32, 3, 1]) from checkpoint, the shape in current model is torch.Size([64, 32, 3, 3]).\n\tsize mismatch for convblock2_2.layers.0.weight: copying a param with shape torch.Size([64, 64, 3, 1]) from checkpoint, the shape in current model is torch.Size([64, 64, 3, 3]).\n\tsize mismatch for convblock3_1.layers.0.weight: copying a param with shape torch.Size([64, 64, 3, 1]) from checkpoint, the shape in current model is torch.Size([128, 64, 3, 3]).\n\tsize mismatch for convblock3_1.layers.0.bias: copying a param with shape torch.Size([64]) from checkpoint, the shape in current model is torch.Size([128]).\n\tsize mismatch for convblock3_1.layers.1.weight: copying a param with shape torch.Size([64]) from checkpoint, the shape in current model is torch.Size([128]).\n\tsize mismatch for convblock3_1.layers.1.bias: copying a param with shape torch.Size([64]) from checkpoint, the shape in current model is torch.Size([128]).\n\tsize mismatch for convblock3_1.layers.1.running_mean: copying a param with shape torch.Size([64]) from checkpoint, the shape in current model is torch.Size([128]).\n\tsize mismatch for convblock3_1.layers.1.running_var: copying a param with shape torch.Size([64]) from checkpoint, the shape in current model is torch.Size([128]).\n\tsize mismatch for convblock3_2.layers.0.weight: copying a param with shape torch.Size([64, 64, 3, 1]) from checkpoint, the shape in current model is torch.Size([128, 128, 3, 3]).\n\tsize mismatch for convblock3_2.layers.0.bias: copying a param with shape torch.Size([64]) from checkpoint, the shape in current model is torch.Size([128]).\n\tsize mismatch for convblock3_2.layers.1.weight: copying a param with shape torch.Size([64]) from checkpoint, the shape in current model is torch.Size([128]).\n\tsize mismatch for convblock3_2.layers.1.bias: copying a param with shape torch.Size([64]) from checkpoint, the shape in current model is torch.Size([128]).\n\tsize mismatch for convblock3_2.layers.1.running_mean: copying a param with shape torch.Size([64]) from checkpoint, the shape in current model is torch.Size([128]).\n\tsize mismatch for convblock3_2.layers.1.running_var: copying a param with shape torch.Size([64]) from checkpoint, the shape in current model is torch.Size([128]).\n\tsize mismatch for convblock4_1.layers.0.weight: copying a param with shape torch.Size([128, 64, 3, 1]) from checkpoint, the shape in current model is torch.Size([256, 128, 3, 3]).\n\tsize mismatch for convblock4_1.layers.0.bias: copying a param with shape torch.Size([128]) from checkpoint, the shape in current model is torch.Size([256]).\n\tsize mismatch for convblock4_1.layers.1.weight: copying a param with shape torch.Size([128]) from checkpoint, the shape in current model is torch.Size([256]).\n\tsize mismatch for convblock4_1.layers.1.bias: copying a param with shape torch.Size([128]) from checkpoint, the shape in current model is torch.Size([256]).\n\tsize mismatch for convblock4_1.layers.1.running_mean: copying a param with shape torch.Size([128]) from checkpoint, the shape in current model is torch.Size([256]).\n\tsize mismatch for convblock4_1.layers.1.running_var: copying a param with shape torch.Size([128]) from checkpoint, the shape in current model is torch.Size([256]).\n\tsize mismatch for convblock4_2.layers.0.weight: copying a param with shape torch.Size([128, 128, 3, 1]) from checkpoint, the shape in current model is torch.Size([256, 256, 3, 3]).\n\tsize mismatch for convblock4_2.layers.0.bias: copying a param with shape torch.Size([128]) from checkpoint, the shape in current model is torch.Size([256]).\n\tsize mismatch for convblock4_2.layers.1.weight: copying a param with shape torch.Size([128]) from checkpoint, the shape in current model is torch.Size([256]).\n\tsize mismatch for convblock4_2.layers.1.bias: copying a param with shape torch.Size([128]) from checkpoint, the shape in current model is torch.Size([256]).\n\tsize mismatch for convblock4_2.layers.1.running_mean: copying a param with shape torch.Size([128]) from checkpoint, the shape in current model is torch.Size([256]).\n\tsize mismatch for convblock4_2.layers.1.running_var: copying a param with shape torch.Size([128]) from checkpoint, the shape in current model is torch.Size([256]).\n\tsize mismatch for convblock5_1.layers.0.weight: copying a param with shape torch.Size([128, 128, 3, 3]) from checkpoint, the shape in current model is torch.Size([256, 256, 3, 3]).\n\tsize mismatch for convblock5_1.layers.0.bias: copying a param with shape torch.Size([128]) from checkpoint, the shape in current model is torch.Size([256]).\n\tsize mismatch for convblock5_1.layers.1.weight: copying a param with shape torch.Size([128]) from checkpoint, the shape in current model is torch.Size([256]).\n\tsize mismatch for convblock5_1.layers.1.bias: copying a param with shape torch.Size([128]) from checkpoint, the shape in current model is torch.Size([256]).\n\tsize mismatch for convblock5_1.layers.1.running_mean: copying a param with shape torch.Size([128]) from checkpoint, the shape in current model is torch.Size([256]).\n\tsize mismatch for convblock5_1.layers.1.running_var: copying a param with shape torch.Size([128]) from checkpoint, the shape in current model is torch.Size([256]).\n\tsize mismatch for convblock5_2.layers.0.weight: copying a param with shape torch.Size([128, 128, 3, 3]) from checkpoint, the shape in current model is torch.Size([256, 256, 3, 3]).\n\tsize mismatch for convblock5_2.layers.0.bias: copying a param with shape torch.Size([128]) from checkpoint, the shape in current model is torch.Size([256]).\n\tsize mismatch for convblock5_2.layers.1.weight: copying a param with shape torch.Size([128]) from checkpoint, the shape in current model is torch.Size([256]).\n\tsize mismatch for convblock5_2.layers.1.bias: copying a param with shape torch.Size([128]) from checkpoint, the shape in current model is torch.Size([256]).\n\tsize mismatch for convblock5_2.layers.1.running_mean: copying a param with shape torch.Size([128]) from checkpoint, the shape in current model is torch.Size([256]).\n\tsize mismatch for convblock5_2.layers.1.running_var: copying a param with shape torch.Size([128]) from checkpoint, the shape in current model is torch.Size([256]).\n\tsize mismatch for convblock6_1.layers.0.weight: copying a param with shape torch.Size([256, 128, 3, 3]) from checkpoint, the shape in current model is torch.Size([256, 256, 3, 3]).\n\tsize mismatch for convblock8.layers.0.weight: copying a param with shape torch.Size([512, 256, 8, 9]) from checkpoint, the shape in current model is torch.Size([256, 256, 3, 3]).\n\tsize mismatch for convblock8.layers.0.bias: copying a param with shape torch.Size([512]) from checkpoint, the shape in current model is torch.Size([256]).\n\tsize mismatch for convblock8.layers.1.weight: copying a param with shape torch.Size([512]) from checkpoint, the shape in current model is torch.Size([256]).\n\tsize mismatch for convblock8.layers.1.bias: copying a param with shape torch.Size([512]) from checkpoint, the shape in current model is torch.Size([256]).\n\tsize mismatch for convblock8.layers.1.running_mean: copying a param with shape torch.Size([512]) from checkpoint, the shape in current model is torch.Size([256]).\n\tsize mismatch for convblock8.layers.1.running_var: copying a param with shape torch.Size([512]) from checkpoint, the shape in current model is torch.Size([256]).\n\tsize mismatch for deconv1_1.layers.0.weight: copying a param with shape torch.Size([512, 512, 5, 5]) from checkpoint, the shape in current model is torch.Size([256, 256, 3, 3]).\n\tsize mismatch for deconv1_1.layers.0.bias: copying a param with shape torch.Size([512]) from checkpoint, the shape in current model is torch.Size([256]).\n\tsize mismatch for deconv1_1.layers.1.weight: copying a param with shape torch.Size([512]) from checkpoint, the shape in current model is torch.Size([256]).\n\tsize mismatch for deconv1_1.layers.1.bias: copying a param with shape torch.Size([512]) from checkpoint, the shape in current model is torch.Size([256]).\n\tsize mismatch for deconv1_1.layers.1.running_mean: copying a param with shape torch.Size([512]) from checkpoint, the shape in current model is torch.Size([256]).\n\tsize mismatch for deconv1_1.layers.1.running_var: copying a param with shape torch.Size([512]) from checkpoint, the shape in current model is torch.Size([256]).\n\tsize mismatch for deconv1_2.layers.0.weight: copying a param with shape torch.Size([512, 512, 3, 3]) from checkpoint, the shape in current model is torch.Size([512, 256, 3, 3]).\n\tsize mismatch for deconv1_2.layers.0.bias: copying a param with shape torch.Size([512]) from checkpoint, the shape in current model is torch.Size([256]).\n\tsize mismatch for deconv1_2.layers.1.weight: copying a param with shape torch.Size([512]) from checkpoint, the shape in current model is torch.Size([256]).\n\tsize mismatch for deconv1_2.layers.1.bias: copying a param with shape torch.Size([512]) from checkpoint, the shape in current model is torch.Size([256]).\n\tsize mismatch for deconv1_2.layers.1.running_mean: copying a param with shape torch.Size([512]) from checkpoint, the shape in current model is torch.Size([256]).\n\tsize mismatch for deconv1_2.layers.1.running_var: copying a param with shape torch.Size([512]) from checkpoint, the shape in current model is torch.Size([256]).\n\tsize mismatch for deconv2_1.layers.0.weight: copying a param with shape torch.Size([512, 256, 4, 4]) from checkpoint, the shape in current model is torch.Size([256, 256, 3, 3]).\n\tsize mismatch for deconv2_2.layers.0.weight: copying a param with shape torch.Size([256, 256, 3, 3]) from checkpoint, the shape in current model is torch.Size([512, 256, 3, 3]).\n\tsize mismatch for deconv3_1.layers.0.weight: copying a param with shape torch.Size([256, 128, 4, 4]) from checkpoint, the shape in current model is torch.Size([256, 256, 3, 3]).\n\tsize mismatch for deconv3_1.layers.0.bias: copying a param with shape torch.Size([128]) from checkpoint, the shape in current model is torch.Size([256]).\n\tsize mismatch for deconv3_1.layers.1.weight: copying a param with shape torch.Size([128]) from checkpoint, the shape in current model is torch.Size([256]).\n\tsize mismatch for deconv3_1.layers.1.bias: copying a param with shape torch.Size([128]) from checkpoint, the shape in current model is torch.Size([256]).\n\tsize mismatch for deconv3_1.layers.1.running_mean: copying a param with shape torch.Size([128]) from checkpoint, the shape in current model is torch.Size([256]).\n\tsize mismatch for deconv3_1.layers.1.running_var: copying a param with shape torch.Size([128]) from checkpoint, the shape in current model is torch.Size([256]).\n\tsize mismatch for deconv3_2.layers.0.weight: copying a param with shape torch.Size([128, 128, 3, 3]) from checkpoint, the shape in current model is torch.Size([512, 256, 3, 3]).\n\tsize mismatch for deconv3_2.layers.0.bias: copying a param with shape torch.Size([128]) from checkpoint, the shape in current model is torch.Size([256]).\n\tsize mismatch for deconv3_2.layers.1.weight: copying a param with shape torch.Size([128]) from checkpoint, the shape in current model is torch.Size([256]).\n\tsize mismatch for deconv3_2.layers.1.bias: copying a param with shape torch.Size([128]) from checkpoint, the shape in current model is torch.Size([256]).\n\tsize mismatch for deconv3_2.layers.1.running_mean: copying a param with shape torch.Size([128]) from checkpoint, the shape in current model is torch.Size([256]).\n\tsize mismatch for deconv3_2.layers.1.running_var: copying a param with shape torch.Size([128]) from checkpoint, the shape in current model is torch.Size([256]).\n\tsize mismatch for deconv4_1.layers.0.weight: copying a param with shape torch.Size([128, 64, 4, 4]) from checkpoint, the shape in current model is torch.Size([256, 256, 3, 3]).\n\tsize mismatch for deconv4_1.layers.0.bias: copying a param with shape torch.Size([64]) from checkpoint, the shape in current model is torch.Size([256]).\n\tsize mismatch for deconv4_1.layers.1.weight: copying a param with shape torch.Size([64]) from checkpoint, the shape in current model is torch.Size([256]).\n\tsize mismatch for deconv4_1.layers.1.bias: copying a param with shape torch.Size([64]) from checkpoint, the shape in current model is torch.Size([256]).\n\tsize mismatch for deconv4_1.layers.1.running_mean: copying a param with shape torch.Size([64]) from checkpoint, the shape in current model is torch.Size([256]).\n\tsize mismatch for deconv4_1.layers.1.running_var: copying a param with shape torch.Size([64]) from checkpoint, the shape in current model is torch.Size([256]).\n\tsize mismatch for deconv4_2.layers.0.weight: copying a param with shape torch.Size([64, 64, 3, 3]) from checkpoint, the shape in current model is torch.Size([512, 128, 3, 3]).\n\tsize mismatch for deconv4_2.layers.0.bias: copying a param with shape torch.Size([64]) from checkpoint, the shape in current model is torch.Size([128]).\n\tsize mismatch for deconv4_2.layers.1.weight: copying a param with shape torch.Size([64]) from checkpoint, the shape in current model is torch.Size([128]).\n\tsize mismatch for deconv4_2.layers.1.bias: copying a param with shape torch.Size([64]) from checkpoint, the shape in current model is torch.Size([128]).\n\tsize mismatch for deconv4_2.layers.1.running_mean: copying a param with shape torch.Size([64]) from checkpoint, the shape in current model is torch.Size([128]).\n\tsize mismatch for deconv4_2.layers.1.running_var: copying a param with shape torch.Size([64]) from checkpoint, the shape in current model is torch.Size([128]).\n\tsize mismatch for deconv5_1.layers.0.weight: copying a param with shape torch.Size([64, 32, 4, 4]) from checkpoint, the shape in current model is torch.Size([128, 128, 3, 3]).\n\tsize mismatch for deconv5_1.layers.0.bias: copying a param with shape torch.Size([32]) from checkpoint, the shape in current model is torch.Size([128]).\n\tsize mismatch for deconv5_1.layers.1.weight: copying a param with shape torch.Size([32]) from checkpoint, the shape in current model is torch.Size([128]).\n\tsize mismatch for deconv5_1.layers.1.bias: copying a param with shape torch.Size([32]) from checkpoint, the shape in current model is torch.Size([128]).\n\tsize mismatch for deconv5_1.layers.1.running_mean: copying a param with shape torch.Size([32]) from checkpoint, the shape in current model is torch.Size([128]).\n\tsize mismatch for deconv5_1.layers.1.running_var: copying a param with shape torch.Size([32]) from checkpoint, the shape in current model is torch.Size([128]).\n\tsize mismatch for deconv5_2.layers.0.weight: copying a param with shape torch.Size([32, 32, 3, 3]) from checkpoint, the shape in current model is torch.Size([256, 64, 3, 3]).\n\tsize mismatch for deconv5_2.layers.0.bias: copying a param with shape torch.Size([32]) from checkpoint, the shape in current model is torch.Size([64]).\n\tsize mismatch for deconv5_2.layers.1.weight: copying a param with shape torch.Size([32]) from checkpoint, the shape in current model is torch.Size([64]).\n\tsize mismatch for deconv5_2.layers.1.bias: copying a param with shape torch.Size([32]) from checkpoint, the shape in current model is torch.Size([64]).\n\tsize mismatch for deconv5_2.layers.1.running_mean: copying a param with shape torch.Size([32]) from checkpoint, the shape in current model is torch.Size([64]).\n\tsize mismatch for deconv5_2.layers.1.running_var: copying a param with shape torch.Size([32]) from checkpoint, the shape in current model is torch.Size([64]).\n\tsize mismatch for deconv6.layers.0.weight: copying a param with shape torch.Size([1, 32, 3, 3]) from checkpoint, the shape in current model is torch.Size([64, 32, 3, 3]).\n\tsize mismatch for deconv6.layers.0.bias: copying a param with shape torch.Size([1]) from checkpoint, the shape in current model is torch.Size([32]).\n\tsize mismatch for deconv6.layers.1.weight: copying a param with shape torch.Size([1]) from checkpoint, the shape in current model is torch.Size([32]).\n\tsize mismatch for deconv6.layers.1.bias: copying a param with shape torch.Size([1]) from checkpoint, the shape in current model is torch.Size([32]).\n\tsize mismatch for deconv6.layers.1.running_mean: copying a param with shape torch.Size([1]) from checkpoint, the shape in current model is torch.Size([32]).\n\tsize mismatch for deconv6.layers.1.running_var: copying a param with shape torch.Size([1]) from checkpoint, the shape in current model is torch.Size([32]).",
     "output_type": "error",
     "traceback": [
      "\u001b[0;31m---------------------------------------------------------------------------\u001b[0m",
      "\u001b[0;31mRuntimeError\u001b[0m                              Traceback (most recent call last)",
      "Cell \u001b[0;32mIn[16], line 1\u001b[0m\n\u001b[0;32m----> 1\u001b[0m ensemble_model \u001b[38;5;241m=\u001b[39m \u001b[43mbuild_ensemble\u001b[49m\u001b[43m(\u001b[49m\u001b[43mpaths\u001b[49m\u001b[43m,\u001b[49m\u001b[43m \u001b[49m\u001b[43mdevice\u001b[49m\u001b[43m)\u001b[49m\n\u001b[1;32m      2\u001b[0m save_path \u001b[38;5;241m=\u001b[39m os\u001b[38;5;241m.\u001b[39mpath\u001b[38;5;241m.\u001b[39mjoin(dir_root, \u001b[38;5;124m'\u001b[39m\u001b[38;5;124mvelocitygan_ensemble.pth\u001b[39m\u001b[38;5;124m'\u001b[39m)\n\u001b[1;32m      3\u001b[0m torch\u001b[38;5;241m.\u001b[39msave(ensemble_model\u001b[38;5;241m.\u001b[39mstate_dict(), save_path)\n",
      "Cell \u001b[0;32mIn[14], line 38\u001b[0m, in \u001b[0;36mbuild_ensemble\u001b[0;34m(model_paths, device)\u001b[0m\n\u001b[1;32m     36\u001b[0m         avg_state[key] \u001b[38;5;241m=\u001b[39m state_dicts[\u001b[38;5;241m0\u001b[39m][key]\n\u001b[1;32m     37\u001b[0m \u001b[38;5;66;03m# --- ロード ---\u001b[39;00m\n\u001b[0;32m---> 38\u001b[0m \u001b[43mbase_model\u001b[49m\u001b[38;5;241;43m.\u001b[39;49m\u001b[43mload_state_dict\u001b[49m\u001b[43m(\u001b[49m\u001b[43mavg_state\u001b[49m\u001b[43m)\u001b[49m\n\u001b[1;32m     39\u001b[0m \u001b[38;5;28;01mreturn\u001b[39;00m base_model\n",
      "File \u001b[0;32m/usr/local/lib/python3.10/dist-packages/torch/nn/modules/module.py:2593\u001b[0m, in \u001b[0;36mModule.load_state_dict\u001b[0;34m(self, state_dict, strict, assign)\u001b[0m\n\u001b[1;32m   2585\u001b[0m         error_msgs\u001b[38;5;241m.\u001b[39minsert(\n\u001b[1;32m   2586\u001b[0m             \u001b[38;5;241m0\u001b[39m,\n\u001b[1;32m   2587\u001b[0m             \u001b[38;5;124m\"\u001b[39m\u001b[38;5;124mMissing key(s) in state_dict: \u001b[39m\u001b[38;5;132;01m{}\u001b[39;00m\u001b[38;5;124m. \u001b[39m\u001b[38;5;124m\"\u001b[39m\u001b[38;5;241m.\u001b[39mformat(\n\u001b[1;32m   2588\u001b[0m                 \u001b[38;5;124m\"\u001b[39m\u001b[38;5;124m, \u001b[39m\u001b[38;5;124m\"\u001b[39m\u001b[38;5;241m.\u001b[39mjoin(\u001b[38;5;124mf\u001b[39m\u001b[38;5;124m'\u001b[39m\u001b[38;5;124m\"\u001b[39m\u001b[38;5;132;01m{\u001b[39;00mk\u001b[38;5;132;01m}\u001b[39;00m\u001b[38;5;124m\"\u001b[39m\u001b[38;5;124m'\u001b[39m \u001b[38;5;28;01mfor\u001b[39;00m k \u001b[38;5;129;01min\u001b[39;00m missing_keys)\n\u001b[1;32m   2589\u001b[0m             ),\n\u001b[1;32m   2590\u001b[0m         )\n\u001b[1;32m   2592\u001b[0m \u001b[38;5;28;01mif\u001b[39;00m \u001b[38;5;28mlen\u001b[39m(error_msgs) \u001b[38;5;241m>\u001b[39m \u001b[38;5;241m0\u001b[39m:\n\u001b[0;32m-> 2593\u001b[0m     \u001b[38;5;28;01mraise\u001b[39;00m \u001b[38;5;167;01mRuntimeError\u001b[39;00m(\n\u001b[1;32m   2594\u001b[0m         \u001b[38;5;124m\"\u001b[39m\u001b[38;5;124mError(s) in loading state_dict for \u001b[39m\u001b[38;5;132;01m{}\u001b[39;00m\u001b[38;5;124m:\u001b[39m\u001b[38;5;130;01m\\n\u001b[39;00m\u001b[38;5;130;01m\\t\u001b[39;00m\u001b[38;5;132;01m{}\u001b[39;00m\u001b[38;5;124m\"\u001b[39m\u001b[38;5;241m.\u001b[39mformat(\n\u001b[1;32m   2595\u001b[0m             \u001b[38;5;28mself\u001b[39m\u001b[38;5;241m.\u001b[39m\u001b[38;5;18m__class__\u001b[39m\u001b[38;5;241m.\u001b[39m\u001b[38;5;18m__name__\u001b[39m, \u001b[38;5;124m\"\u001b[39m\u001b[38;5;130;01m\\n\u001b[39;00m\u001b[38;5;130;01m\\t\u001b[39;00m\u001b[38;5;124m\"\u001b[39m\u001b[38;5;241m.\u001b[39mjoin(error_msgs)\n\u001b[1;32m   2596\u001b[0m         )\n\u001b[1;32m   2597\u001b[0m     )\n\u001b[1;32m   2598\u001b[0m \u001b[38;5;28;01mreturn\u001b[39;00m _IncompatibleKeys(missing_keys, unexpected_keys)\n",
      "\u001b[0;31mRuntimeError\u001b[0m: Error(s) in loading state_dict for VelocityGAN:\n\tMissing key(s) in state_dict: \"final.weight\", \"final.bias\". \n\tsize mismatch for convblock1.layers.0.weight: copying a param with shape torch.Size([32, 5, 7, 1]) from checkpoint, the shape in current model is torch.Size([32, 1, 3, 3]).\n\tsize mismatch for convblock2_1.layers.0.weight: copying a param with shape torch.Size([64, 32, 3, 1]) from checkpoint, the shape in current model is torch.Size([64, 32, 3, 3]).\n\tsize mismatch for convblock2_2.layers.0.weight: copying a param with shape torch.Size([64, 64, 3, 1]) from checkpoint, the shape in current model is torch.Size([64, 64, 3, 3]).\n\tsize mismatch for convblock3_1.layers.0.weight: copying a param with shape torch.Size([64, 64, 3, 1]) from checkpoint, the shape in current model is torch.Size([128, 64, 3, 3]).\n\tsize mismatch for convblock3_1.layers.0.bias: copying a param with shape torch.Size([64]) from checkpoint, the shape in current model is torch.Size([128]).\n\tsize mismatch for convblock3_1.layers.1.weight: copying a param with shape torch.Size([64]) from checkpoint, the shape in current model is torch.Size([128]).\n\tsize mismatch for convblock3_1.layers.1.bias: copying a param with shape torch.Size([64]) from checkpoint, the shape in current model is torch.Size([128]).\n\tsize mismatch for convblock3_1.layers.1.running_mean: copying a param with shape torch.Size([64]) from checkpoint, the shape in current model is torch.Size([128]).\n\tsize mismatch for convblock3_1.layers.1.running_var: copying a param with shape torch.Size([64]) from checkpoint, the shape in current model is torch.Size([128]).\n\tsize mismatch for convblock3_2.layers.0.weight: copying a param with shape torch.Size([64, 64, 3, 1]) from checkpoint, the shape in current model is torch.Size([128, 128, 3, 3]).\n\tsize mismatch for convblock3_2.layers.0.bias: copying a param with shape torch.Size([64]) from checkpoint, the shape in current model is torch.Size([128]).\n\tsize mismatch for convblock3_2.layers.1.weight: copying a param with shape torch.Size([64]) from checkpoint, the shape in current model is torch.Size([128]).\n\tsize mismatch for convblock3_2.layers.1.bias: copying a param with shape torch.Size([64]) from checkpoint, the shape in current model is torch.Size([128]).\n\tsize mismatch for convblock3_2.layers.1.running_mean: copying a param with shape torch.Size([64]) from checkpoint, the shape in current model is torch.Size([128]).\n\tsize mismatch for convblock3_2.layers.1.running_var: copying a param with shape torch.Size([64]) from checkpoint, the shape in current model is torch.Size([128]).\n\tsize mismatch for convblock4_1.layers.0.weight: copying a param with shape torch.Size([128, 64, 3, 1]) from checkpoint, the shape in current model is torch.Size([256, 128, 3, 3]).\n\tsize mismatch for convblock4_1.layers.0.bias: copying a param with shape torch.Size([128]) from checkpoint, the shape in current model is torch.Size([256]).\n\tsize mismatch for convblock4_1.layers.1.weight: copying a param with shape torch.Size([128]) from checkpoint, the shape in current model is torch.Size([256]).\n\tsize mismatch for convblock4_1.layers.1.bias: copying a param with shape torch.Size([128]) from checkpoint, the shape in current model is torch.Size([256]).\n\tsize mismatch for convblock4_1.layers.1.running_mean: copying a param with shape torch.Size([128]) from checkpoint, the shape in current model is torch.Size([256]).\n\tsize mismatch for convblock4_1.layers.1.running_var: copying a param with shape torch.Size([128]) from checkpoint, the shape in current model is torch.Size([256]).\n\tsize mismatch for convblock4_2.layers.0.weight: copying a param with shape torch.Size([128, 128, 3, 1]) from checkpoint, the shape in current model is torch.Size([256, 256, 3, 3]).\n\tsize mismatch for convblock4_2.layers.0.bias: copying a param with shape torch.Size([128]) from checkpoint, the shape in current model is torch.Size([256]).\n\tsize mismatch for convblock4_2.layers.1.weight: copying a param with shape torch.Size([128]) from checkpoint, the shape in current model is torch.Size([256]).\n\tsize mismatch for convblock4_2.layers.1.bias: copying a param with shape torch.Size([128]) from checkpoint, the shape in current model is torch.Size([256]).\n\tsize mismatch for convblock4_2.layers.1.running_mean: copying a param with shape torch.Size([128]) from checkpoint, the shape in current model is torch.Size([256]).\n\tsize mismatch for convblock4_2.layers.1.running_var: copying a param with shape torch.Size([128]) from checkpoint, the shape in current model is torch.Size([256]).\n\tsize mismatch for convblock5_1.layers.0.weight: copying a param with shape torch.Size([128, 128, 3, 3]) from checkpoint, the shape in current model is torch.Size([256, 256, 3, 3]).\n\tsize mismatch for convblock5_1.layers.0.bias: copying a param with shape torch.Size([128]) from checkpoint, the shape in current model is torch.Size([256]).\n\tsize mismatch for convblock5_1.layers.1.weight: copying a param with shape torch.Size([128]) from checkpoint, the shape in current model is torch.Size([256]).\n\tsize mismatch for convblock5_1.layers.1.bias: copying a param with shape torch.Size([128]) from checkpoint, the shape in current model is torch.Size([256]).\n\tsize mismatch for convblock5_1.layers.1.running_mean: copying a param with shape torch.Size([128]) from checkpoint, the shape in current model is torch.Size([256]).\n\tsize mismatch for convblock5_1.layers.1.running_var: copying a param with shape torch.Size([128]) from checkpoint, the shape in current model is torch.Size([256]).\n\tsize mismatch for convblock5_2.layers.0.weight: copying a param with shape torch.Size([128, 128, 3, 3]) from checkpoint, the shape in current model is torch.Size([256, 256, 3, 3]).\n\tsize mismatch for convblock5_2.layers.0.bias: copying a param with shape torch.Size([128]) from checkpoint, the shape in current model is torch.Size([256]).\n\tsize mismatch for convblock5_2.layers.1.weight: copying a param with shape torch.Size([128]) from checkpoint, the shape in current model is torch.Size([256]).\n\tsize mismatch for convblock5_2.layers.1.bias: copying a param with shape torch.Size([128]) from checkpoint, the shape in current model is torch.Size([256]).\n\tsize mismatch for convblock5_2.layers.1.running_mean: copying a param with shape torch.Size([128]) from checkpoint, the shape in current model is torch.Size([256]).\n\tsize mismatch for convblock5_2.layers.1.running_var: copying a param with shape torch.Size([128]) from checkpoint, the shape in current model is torch.Size([256]).\n\tsize mismatch for convblock6_1.layers.0.weight: copying a param with shape torch.Size([256, 128, 3, 3]) from checkpoint, the shape in current model is torch.Size([256, 256, 3, 3]).\n\tsize mismatch for convblock8.layers.0.weight: copying a param with shape torch.Size([512, 256, 8, 9]) from checkpoint, the shape in current model is torch.Size([256, 256, 3, 3]).\n\tsize mismatch for convblock8.layers.0.bias: copying a param with shape torch.Size([512]) from checkpoint, the shape in current model is torch.Size([256]).\n\tsize mismatch for convblock8.layers.1.weight: copying a param with shape torch.Size([512]) from checkpoint, the shape in current model is torch.Size([256]).\n\tsize mismatch for convblock8.layers.1.bias: copying a param with shape torch.Size([512]) from checkpoint, the shape in current model is torch.Size([256]).\n\tsize mismatch for convblock8.layers.1.running_mean: copying a param with shape torch.Size([512]) from checkpoint, the shape in current model is torch.Size([256]).\n\tsize mismatch for convblock8.layers.1.running_var: copying a param with shape torch.Size([512]) from checkpoint, the shape in current model is torch.Size([256]).\n\tsize mismatch for deconv1_1.layers.0.weight: copying a param with shape torch.Size([512, 512, 5, 5]) from checkpoint, the shape in current model is torch.Size([256, 256, 3, 3]).\n\tsize mismatch for deconv1_1.layers.0.bias: copying a param with shape torch.Size([512]) from checkpoint, the shape in current model is torch.Size([256]).\n\tsize mismatch for deconv1_1.layers.1.weight: copying a param with shape torch.Size([512]) from checkpoint, the shape in current model is torch.Size([256]).\n\tsize mismatch for deconv1_1.layers.1.bias: copying a param with shape torch.Size([512]) from checkpoint, the shape in current model is torch.Size([256]).\n\tsize mismatch for deconv1_1.layers.1.running_mean: copying a param with shape torch.Size([512]) from checkpoint, the shape in current model is torch.Size([256]).\n\tsize mismatch for deconv1_1.layers.1.running_var: copying a param with shape torch.Size([512]) from checkpoint, the shape in current model is torch.Size([256]).\n\tsize mismatch for deconv1_2.layers.0.weight: copying a param with shape torch.Size([512, 512, 3, 3]) from checkpoint, the shape in current model is torch.Size([512, 256, 3, 3]).\n\tsize mismatch for deconv1_2.layers.0.bias: copying a param with shape torch.Size([512]) from checkpoint, the shape in current model is torch.Size([256]).\n\tsize mismatch for deconv1_2.layers.1.weight: copying a param with shape torch.Size([512]) from checkpoint, the shape in current model is torch.Size([256]).\n\tsize mismatch for deconv1_2.layers.1.bias: copying a param with shape torch.Size([512]) from checkpoint, the shape in current model is torch.Size([256]).\n\tsize mismatch for deconv1_2.layers.1.running_mean: copying a param with shape torch.Size([512]) from checkpoint, the shape in current model is torch.Size([256]).\n\tsize mismatch for deconv1_2.layers.1.running_var: copying a param with shape torch.Size([512]) from checkpoint, the shape in current model is torch.Size([256]).\n\tsize mismatch for deconv2_1.layers.0.weight: copying a param with shape torch.Size([512, 256, 4, 4]) from checkpoint, the shape in current model is torch.Size([256, 256, 3, 3]).\n\tsize mismatch for deconv2_2.layers.0.weight: copying a param with shape torch.Size([256, 256, 3, 3]) from checkpoint, the shape in current model is torch.Size([512, 256, 3, 3]).\n\tsize mismatch for deconv3_1.layers.0.weight: copying a param with shape torch.Size([256, 128, 4, 4]) from checkpoint, the shape in current model is torch.Size([256, 256, 3, 3]).\n\tsize mismatch for deconv3_1.layers.0.bias: copying a param with shape torch.Size([128]) from checkpoint, the shape in current model is torch.Size([256]).\n\tsize mismatch for deconv3_1.layers.1.weight: copying a param with shape torch.Size([128]) from checkpoint, the shape in current model is torch.Size([256]).\n\tsize mismatch for deconv3_1.layers.1.bias: copying a param with shape torch.Size([128]) from checkpoint, the shape in current model is torch.Size([256]).\n\tsize mismatch for deconv3_1.layers.1.running_mean: copying a param with shape torch.Size([128]) from checkpoint, the shape in current model is torch.Size([256]).\n\tsize mismatch for deconv3_1.layers.1.running_var: copying a param with shape torch.Size([128]) from checkpoint, the shape in current model is torch.Size([256]).\n\tsize mismatch for deconv3_2.layers.0.weight: copying a param with shape torch.Size([128, 128, 3, 3]) from checkpoint, the shape in current model is torch.Size([512, 256, 3, 3]).\n\tsize mismatch for deconv3_2.layers.0.bias: copying a param with shape torch.Size([128]) from checkpoint, the shape in current model is torch.Size([256]).\n\tsize mismatch for deconv3_2.layers.1.weight: copying a param with shape torch.Size([128]) from checkpoint, the shape in current model is torch.Size([256]).\n\tsize mismatch for deconv3_2.layers.1.bias: copying a param with shape torch.Size([128]) from checkpoint, the shape in current model is torch.Size([256]).\n\tsize mismatch for deconv3_2.layers.1.running_mean: copying a param with shape torch.Size([128]) from checkpoint, the shape in current model is torch.Size([256]).\n\tsize mismatch for deconv3_2.layers.1.running_var: copying a param with shape torch.Size([128]) from checkpoint, the shape in current model is torch.Size([256]).\n\tsize mismatch for deconv4_1.layers.0.weight: copying a param with shape torch.Size([128, 64, 4, 4]) from checkpoint, the shape in current model is torch.Size([256, 256, 3, 3]).\n\tsize mismatch for deconv4_1.layers.0.bias: copying a param with shape torch.Size([64]) from checkpoint, the shape in current model is torch.Size([256]).\n\tsize mismatch for deconv4_1.layers.1.weight: copying a param with shape torch.Size([64]) from checkpoint, the shape in current model is torch.Size([256]).\n\tsize mismatch for deconv4_1.layers.1.bias: copying a param with shape torch.Size([64]) from checkpoint, the shape in current model is torch.Size([256]).\n\tsize mismatch for deconv4_1.layers.1.running_mean: copying a param with shape torch.Size([64]) from checkpoint, the shape in current model is torch.Size([256]).\n\tsize mismatch for deconv4_1.layers.1.running_var: copying a param with shape torch.Size([64]) from checkpoint, the shape in current model is torch.Size([256]).\n\tsize mismatch for deconv4_2.layers.0.weight: copying a param with shape torch.Size([64, 64, 3, 3]) from checkpoint, the shape in current model is torch.Size([512, 128, 3, 3]).\n\tsize mismatch for deconv4_2.layers.0.bias: copying a param with shape torch.Size([64]) from checkpoint, the shape in current model is torch.Size([128]).\n\tsize mismatch for deconv4_2.layers.1.weight: copying a param with shape torch.Size([64]) from checkpoint, the shape in current model is torch.Size([128]).\n\tsize mismatch for deconv4_2.layers.1.bias: copying a param with shape torch.Size([64]) from checkpoint, the shape in current model is torch.Size([128]).\n\tsize mismatch for deconv4_2.layers.1.running_mean: copying a param with shape torch.Size([64]) from checkpoint, the shape in current model is torch.Size([128]).\n\tsize mismatch for deconv4_2.layers.1.running_var: copying a param with shape torch.Size([64]) from checkpoint, the shape in current model is torch.Size([128]).\n\tsize mismatch for deconv5_1.layers.0.weight: copying a param with shape torch.Size([64, 32, 4, 4]) from checkpoint, the shape in current model is torch.Size([128, 128, 3, 3]).\n\tsize mismatch for deconv5_1.layers.0.bias: copying a param with shape torch.Size([32]) from checkpoint, the shape in current model is torch.Size([128]).\n\tsize mismatch for deconv5_1.layers.1.weight: copying a param with shape torch.Size([32]) from checkpoint, the shape in current model is torch.Size([128]).\n\tsize mismatch for deconv5_1.layers.1.bias: copying a param with shape torch.Size([32]) from checkpoint, the shape in current model is torch.Size([128]).\n\tsize mismatch for deconv5_1.layers.1.running_mean: copying a param with shape torch.Size([32]) from checkpoint, the shape in current model is torch.Size([128]).\n\tsize mismatch for deconv5_1.layers.1.running_var: copying a param with shape torch.Size([32]) from checkpoint, the shape in current model is torch.Size([128]).\n\tsize mismatch for deconv5_2.layers.0.weight: copying a param with shape torch.Size([32, 32, 3, 3]) from checkpoint, the shape in current model is torch.Size([256, 64, 3, 3]).\n\tsize mismatch for deconv5_2.layers.0.bias: copying a param with shape torch.Size([32]) from checkpoint, the shape in current model is torch.Size([64]).\n\tsize mismatch for deconv5_2.layers.1.weight: copying a param with shape torch.Size([32]) from checkpoint, the shape in current model is torch.Size([64]).\n\tsize mismatch for deconv5_2.layers.1.bias: copying a param with shape torch.Size([32]) from checkpoint, the shape in current model is torch.Size([64]).\n\tsize mismatch for deconv5_2.layers.1.running_mean: copying a param with shape torch.Size([32]) from checkpoint, the shape in current model is torch.Size([64]).\n\tsize mismatch for deconv5_2.layers.1.running_var: copying a param with shape torch.Size([32]) from checkpoint, the shape in current model is torch.Size([64]).\n\tsize mismatch for deconv6.layers.0.weight: copying a param with shape torch.Size([1, 32, 3, 3]) from checkpoint, the shape in current model is torch.Size([64, 32, 3, 3]).\n\tsize mismatch for deconv6.layers.0.bias: copying a param with shape torch.Size([1]) from checkpoint, the shape in current model is torch.Size([32]).\n\tsize mismatch for deconv6.layers.1.weight: copying a param with shape torch.Size([1]) from checkpoint, the shape in current model is torch.Size([32]).\n\tsize mismatch for deconv6.layers.1.bias: copying a param with shape torch.Size([1]) from checkpoint, the shape in current model is torch.Size([32]).\n\tsize mismatch for deconv6.layers.1.running_mean: copying a param with shape torch.Size([1]) from checkpoint, the shape in current model is torch.Size([32]).\n\tsize mismatch for deconv6.layers.1.running_var: copying a param with shape torch.Size([1]) from checkpoint, the shape in current model is torch.Size([32])."
     ]
    }
   ],
   "source": [
    "ensemble_model = build_ensemble(paths, device)\n",
    "save_path = os.path.join(dir_root, 'velocitygan_ensemble.pth')\n",
    "torch.save(ensemble_model.state_dict(), save_path)\n",
    "print(f\"Ensembled model saved to: {save_path}\")\n"
   ]
  },
  {
   "cell_type": "code",
   "execution_count": null,
   "id": "291b1c98-bdd6-4966-8197-d09900aad8fb",
   "metadata": {},
   "outputs": [],
   "source": []
  }
 ],
 "metadata": {
  "kernelspec": {
   "display_name": "Python 3 (ipykernel)",
   "language": "python",
   "name": "python3"
  },
  "language_info": {
   "codemirror_mode": {
    "name": "ipython",
    "version": 3
   },
   "file_extension": ".py",
   "mimetype": "text/x-python",
   "name": "python",
   "nbconvert_exporter": "python",
   "pygments_lexer": "ipython3",
   "version": "3.10.12"
  }
 },
 "nbformat": 4,
 "nbformat_minor": 5
}
