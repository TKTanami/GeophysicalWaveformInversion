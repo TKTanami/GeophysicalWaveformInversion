{
 "cells": [
  {
   "cell_type": "markdown",
   "id": "3dcb7995",
   "metadata": {},
   "source": [
    "[波形データ] (5, 1000, 7)\n",
    "   ↓\n",
    "Encoder CNN / Transformer\n",
    "   ↓\n",
    "[速度マップ] (1, 70, 70)        ← この出力に対し…\n",
    "   ↓\n",
    "VelocityMapFn (連続関数化)\n",
    "   ↓\n",
    "PINN損失 (波動方程式 ∂²u/∂t² = V²(∂²u/∂x² + ∂²u/∂z²))"
   ]
  },
  {
   "cell_type": "markdown",
   "id": "f23771c6",
   "metadata": {},
   "source": [
    "🧩 1. 波形 → 速度マップモデル"
   ]
  },
  {
   "cell_type": "code",
   "execution_count": null,
   "id": "4732b4fc",
   "metadata": {
    "vscode": {
     "languageId": "plaintext"
    }
   },
   "outputs": [],
   "source": [
    "class WaveformEncoder(nn.Module):\n",
    "    def __init__(self):\n",
    "        super().__init__()\n",
    "        self.conv1 = nn.Conv3d(1, 16, kernel_size=(3, 5, 3), padding=1)\n",
    "        self.conv2 = nn.Conv3d(16, 32, kernel_size=3, padding=1)\n",
    "        self.pool = nn.AdaptiveAvgPool3d((1, 1, 1))\n",
    "        self.fc = nn.Linear(32, 1024)\n",
    "        self.out = nn.Linear(1024, 70 * 70)\n",
    "\n",
    "    def forward(self, x):  # [B, 5, 1000, 7]\n",
    "        x = x.unsqueeze(1)  # → [B, 1, 5, 1000, 7]\n",
    "        x = F.relu(self.conv1(x))\n",
    "        x = F.relu(self.conv2(x))\n",
    "        x = self.pool(x).view(x.size(0), -1)\n",
    "        x = F.relu(self.fc(x))\n",
    "        x = self.out(x)\n",
    "        return x.view(-1, 1, 70, 70)  # → [B, 1, 70, 70]\n"
   ]
  },
  {
   "cell_type": "markdown",
   "id": "35c19ac9",
   "metadata": {},
   "source": [
    "🧮 2. 速度マップ → 連続関数化（grid_sample）"
   ]
  },
  {
   "cell_type": "code",
   "execution_count": null,
   "id": "25ff3054",
   "metadata": {
    "vscode": {
     "languageId": "plaintext"
    }
   },
   "outputs": [],
   "source": [
    "class VelocityMapFn(nn.Module):\n",
    "    def __init__(self, model):\n",
    "        super().__init__()\n",
    "        self.model = model\n",
    "\n",
    "    def forward(self, waveform, coords):  # waveform: [B, 5, 1000, 7], coords: [B, 2]\n",
    "        v_grid = self.model(waveform)  # [B, 1, 70, 70]\n",
    "        coords = (coords + 1) / 2  # [-1, 1] → [0, 1]\n",
    "        coords = coords.unsqueeze(1).unsqueeze(1)  # [B, 1, 1, 2]\n",
    "        return F.grid_sample(v_grid, coords, align_corners=True).view(-1, 1)\n"
   ]
  },
  {
   "cell_type": "markdown",
   "id": "0e88553e",
   "metadata": {},
   "source": [
    "📐 3. 波動場ネットワーク u(x,z,t)"
   ]
  },
  {
   "cell_type": "code",
   "execution_count": null,
   "id": "0808df00",
   "metadata": {
    "vscode": {
     "languageId": "plaintext"
    }
   },
   "outputs": [],
   "source": [
    "class WaveNet(nn.Module):\n",
    "    def __init__(self, in_dim=3, hidden=128):\n",
    "        super().__init__()\n",
    "        self.net = nn.Sequential(\n",
    "            nn.Linear(in_dim, hidden),\n",
    "            nn.Tanh(),\n",
    "            nn.Linear(hidden, hidden),\n",
    "            nn.Tanh(),\n",
    "            nn.Linear(hidden, 1),\n",
    "        )\n",
    "\n",
    "    def forward(self, xzt):  # [B, 3]\n",
    "        return self.net(xzt)\n"
   ]
  },
  {
   "cell_type": "markdown",
   "id": "2b2277af",
   "metadata": {},
   "source": [
    "📘 4. PDE残差（PINN損失）"
   ]
  },
  {
   "cell_type": "code",
   "execution_count": null,
   "id": "676c937e",
   "metadata": {
    "vscode": {
     "languageId": "plaintext"
    }
   },
   "outputs": [],
   "source": [
    "def compute_pde_residual(u_model, v_fn, waveform, xzt):\n",
    "    xzt.requires_grad_(True)\n",
    "    u = u_model(xzt)  # [B, 1]\n",
    "\n",
    "    grads = torch.autograd.grad(u, xzt, grad_outputs=torch.ones_like(u), create_graph=True)[0]\n",
    "    u_x, u_z, u_t = grads[:, 0:1], grads[:, 1:2], grads[:, 2:3]\n",
    "\n",
    "    u_xx = torch.autograd.grad(u_x, xzt, grad_outputs=torch.ones_like(u_x), create_graph=True)[0][:, 0:1]\n",
    "    u_zz = torch.autograd.grad(u_z, xzt, grad_outputs=torch.ones_like(u_z), create_graph=True)[0][:, 1:2]\n",
    "    u_tt = torch.autograd.grad(u_t, xzt, grad_outputs=torch.ones_like(u_t), create_graph=True)[0][:, 2:3]\n",
    "\n",
    "    v = v_fn(waveform, xzt[:, :2])  # x, z座標からV(x,z)\n",
    "    residual = u_tt - v**2 * (u_xx + u_zz)\n",
    "    return residual\n"
   ]
  },
  {
   "cell_type": "markdown",
   "id": "e88e583a",
   "metadata": {},
   "source": [
    "🔁 5. 学習ループ（PINN + data loss）"
   ]
  },
  {
   "cell_type": "code",
   "execution_count": null,
   "id": "d8596f77",
   "metadata": {
    "vscode": {
     "languageId": "plaintext"
    }
   },
   "outputs": [],
   "source": [
    "waveform_encoder = WaveformEncoder().to(device)\n",
    "velocity_map_fn = VelocityMapFn(waveform_encoder).to(device)\n",
    "wave_model = WaveNet().to(device)\n",
    "optimizer = torch.optim.Adam(list(waveform_encoder.parameters()) + list(wave_model.parameters()), lr=1e-3)\n",
    "\n",
    "for epoch in range(epochs):\n",
    "    waveform = next_waveform_batch().to(device)        # [B, 5, 1000, 7]\n",
    "    xzt = sample_coords(batch_size=512).to(device)     # [B, 3], each in [-1, 1]\n",
    "\n",
    "    residual = compute_pde_residual(wave_model, velocity_map_fn, waveform, xzt)\n",
    "    loss_pde = (residual**2).mean()\n",
    "\n",
    "    # 任意：正解速度マップとのMSE損失を加える（教師あり部分）\n",
    "    v_pred = waveform_encoder(waveform)\n",
    "    loss_data = F.mse_loss(v_pred, ground_truth_velocity.to(device))\n",
    "\n",
    "    loss = loss_data + 0.01 * loss_pde\n",
    "\n",
    "    optimizer.zero_grad()\n",
    "    loss.backward()\n",
    "    optimizer.step()\n"
   ]
  }
 ],
 "metadata": {
  "language_info": {
   "name": "python"
  }
 },
 "nbformat": 4,
 "nbformat_minor": 5
}
