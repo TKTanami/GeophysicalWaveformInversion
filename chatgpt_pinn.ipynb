{
 "cells": [
  {
   "cell_type": "markdown",
   "id": "3dcb7995",
   "metadata": {},
   "source": [
    "[波形データ] (5, 1000, 7)\n",
    "   ↓\n",
    "Encoder CNN / Transformer\n",
    "   ↓\n",
    "[速度マップ] (1, 70, 70)        ← この出力に対し…\n",
    "   ↓\n",
    "VelocityMapFn (連続関数化)\n",
    "   ↓\n",
    "PINN損失 (波動方程式 ∂²u/∂t² = V²(∂²u/∂x² + ∂²u/∂z²))"
   ]
  },
  {
   "cell_type": "markdown",
   "id": "f23771c6",
   "metadata": {},
   "source": [
    "🧩 1. 波形 → 速度マップモデル"
   ]
  },
  {
   "cell_type": "code",
   "execution_count": 1,
   "id": "07c098f4-0c5a-4173-a76a-f5439563e4de",
   "metadata": {},
   "outputs": [],
   "source": [
    "import numpy as np\n",
    "import os \n",
    "import matplotlib.pyplot as plt\n",
    "import torch\n",
    "import torch.nn as nn\n",
    "import torch.nn.functional as F\n",
    "from torch.utils.data import Dataset, DataLoader\n",
    "from sklearn.model_selection import train_test_split"
   ]
  },
  {
   "cell_type": "code",
   "execution_count": 2,
   "id": "4b1f2199-641d-4819-a82d-7fecda46513f",
   "metadata": {},
   "outputs": [],
   "source": [
    "# ----------------------------\n",
    "# 2) Dataset 準備\n",
    "# ----------------------------\n",
    "class WaveformDataset(Dataset):\n",
    "    def __init__(self, waves_path, vels_path):\n",
    "        self.waves = np.load(waves_path)\n",
    "        self.vels  = np.load(vels_path)\n",
    "    def __len__(self):\n",
    "        return len(self.waves)\n",
    "    def __getitem__(self, idx):\n",
    "        x = torch.from_numpy(self.waves[idx]).float()\n",
    "        y = torch.from_numpy(self.vels[idx]).float()\n",
    "        return x, y\n",
    "\n",
    "train_ds = WaveformDataset(\"./dataset_one_batch/train_waves.npy\",\n",
    "                          \"./dataset_one_batch/train_vels.npy\")\n",
    "val_ds   = WaveformDataset(\"./dataset_one_batch/val_waves.npy\",\n",
    "                          \"./dataset_one_batch/val_vels.npy\")\n",
    "\n",
    "train_loader = DataLoader(train_ds, batch_size=16, shuffle=True, num_workers=2)\n",
    "val_loader   = DataLoader(val_ds,   batch_size=16, shuffle=False, num_workers=2)"
   ]
  },
  {
   "cell_type": "code",
   "execution_count": 3,
   "id": "4732b4fc",
   "metadata": {
    "vscode": {
     "languageId": "plaintext"
    }
   },
   "outputs": [],
   "source": [
    "class WaveformEncoder(nn.Module):\n",
    "    def __init__(self):\n",
    "        super().__init__()\n",
    "        self.conv1 = nn.Conv3d(1, 16, kernel_size=(3, 5, 3), padding=1)\n",
    "        self.conv2 = nn.Conv3d(16, 32, kernel_size=3, padding=1)\n",
    "        self.pool = nn.AdaptiveAvgPool3d((1, 10, 10))   # 空間特徴を維持！\n",
    "        self.fc = nn.Linear(32 * 10 * 10, 1024)\n",
    "        self.out = nn.Linear(1024, 70 * 70)\n",
    "\n",
    "    def forward(self, x):  # [B, 5, 1000, 7]\n",
    "        x = x.unsqueeze(1)  # [B,1,5,1000,7]\n",
    "        x = F.relu(self.conv1(x))\n",
    "        x = F.relu(self.conv2(x))\n",
    "        x = self.pool(x)                   # [B,32,1,10,10]\n",
    "        x = x.view(x.size(0), -1)          # [B, 32*10*10]\n",
    "        x = F.relu(self.fc(x))\n",
    "        x = self.out(x)\n",
    "        return x.view(-1, 1, 70, 70)       # [B, 1, 70, 70]"
   ]
  },
  {
   "cell_type": "markdown",
   "id": "35c19ac9",
   "metadata": {},
   "source": [
    "🧮 2. 速度マップ → 連続関数化（grid_sample）"
   ]
  },
  {
   "cell_type": "code",
   "execution_count": 4,
   "id": "25ff3054",
   "metadata": {
    "vscode": {
     "languageId": "plaintext"
    }
   },
   "outputs": [],
   "source": [
    "class VelocityMapFn(nn.Module):\n",
    "    def __init__(self, model):\n",
    "        super().__init__()\n",
    "        self.model = model\n",
    "\n",
    "    def forward(self, waveform, coords):  # waveform: [B, 5, 1000, 7], coords: [B, 2]\n",
    "        v_grid = self.model(waveform)  # [B, 1, 70, 70]\n",
    "        coords = (coords + 1) / 2  # [-1, 1] → [0, 1]\n",
    "        coords = coords.unsqueeze(1).unsqueeze(1)  # [B, 1, 1, 2]\n",
    "        return F.grid_sample(v_grid, coords, align_corners=True).view(-1, 1)\n"
   ]
  },
  {
   "cell_type": "markdown",
   "id": "0e88553e",
   "metadata": {},
   "source": [
    "📐 3. 波動場ネットワーク u(x,z,t)"
   ]
  },
  {
   "cell_type": "code",
   "execution_count": 5,
   "id": "0808df00",
   "metadata": {
    "vscode": {
     "languageId": "plaintext"
    }
   },
   "outputs": [],
   "source": [
    "class WaveNet(nn.Module):\n",
    "    def __init__(self, in_dim=3, hidden=128):\n",
    "        super().__init__()\n",
    "        self.net = nn.Sequential(\n",
    "            nn.Linear(in_dim, hidden),\n",
    "            nn.Tanh(),\n",
    "            nn.Linear(hidden, hidden),\n",
    "            nn.Tanh(),\n",
    "            nn.Linear(hidden, 1),\n",
    "        )\n",
    "\n",
    "    def forward(self, xzt):  # [B, 3]\n",
    "        return self.net(xzt)\n",
    "\n"
   ]
  },
  {
   "cell_type": "code",
   "execution_count": null,
   "id": "0a8abccf-f8be-464f-9f2a-1bf5897e140f",
   "metadata": {},
   "outputs": [],
   "source": []
  },
  {
   "cell_type": "markdown",
   "id": "2b2277af",
   "metadata": {},
   "source": [
    "📘 4. PDE残差（PINN損失）"
   ]
  },
  {
   "cell_type": "code",
   "execution_count": 6,
   "id": "676c937e",
   "metadata": {
    "vscode": {
     "languageId": "plaintext"
    }
   },
   "outputs": [],
   "source": [
    "def compute_pde_residual(u_model, v_fn, waveform, xzt):\n",
    "    xzt.requires_grad_(True)\n",
    "    u = u_model(xzt)  # [B, 1]\n",
    "\n",
    "    grads = torch.autograd.grad(u, xzt, grad_outputs=torch.ones_like(u), create_graph=True)[0]\n",
    "    u_x, u_z, u_t = grads[:, 0:1], grads[:, 1:2], grads[:, 2:3]\n",
    "\n",
    "    u_xx = torch.autograd.grad(u_x, xzt, grad_outputs=torch.ones_like(u_x), create_graph=True)[0][:, 0:1]\n",
    "    u_zz = torch.autograd.grad(u_z, xzt, grad_outputs=torch.ones_like(u_z), create_graph=True)[0][:, 1:2]\n",
    "    u_tt = torch.autograd.grad(u_t, xzt, grad_outputs=torch.ones_like(u_t), create_graph=True)[0][:, 2:3]\n",
    "\n",
    "    v = v_fn(waveform, xzt[:, :2])  # x, z座標からV(x,z)\n",
    "    residual = u_tt - v**2 * (u_xx + u_zz)\n",
    "    return residual\n"
   ]
  },
  {
   "cell_type": "markdown",
   "id": "e88e583a",
   "metadata": {},
   "source": [
    "🔁 5. 学習ループ（PINN + data loss）"
   ]
  },
  {
   "cell_type": "code",
   "execution_count": 7,
   "id": "5394bbe4-a306-4c00-b4ee-809e7fc93155",
   "metadata": {},
   "outputs": [],
   "source": [
    "# モデルを GPU に載せる\n",
    "device = torch.device(\"cuda\" if torch.cuda.is_available() else \"cpu\")\n",
    "# model = WaveformUNet().to(device)\n",
    "model = WaveNet().to(device)\n",
    "\n",
    "\n",
    "# オプティマイザ & スケジューラ\n",
    "# optimizer = torch.optim.AdamW(wave_model.parameters(), lr=1e-3, weight_decay=1e-5)\n",
    "waveform_encoder = WaveformEncoder().to(device)\n",
    "optimizer = torch.optim.Adam(list(waveform_encoder.parameters()) + list(model.parameters()), lr=1e-3)\n",
    "scheduler = torch.optim.lr_scheduler.ReduceLROnPlateau(\n",
    "    optimizer,\n",
    "    mode='min',\n",
    "    factor=0.5,\n",
    "    patience=3\n",
    ")\n",
    "criterion = nn.L1Loss()"
   ]
  },
  {
   "cell_type": "code",
   "execution_count": 8,
   "id": "91165745-a955-4924-8789-a096cb92cc53",
   "metadata": {},
   "outputs": [],
   "source": [
    "def sample_coords(batch_size, device=None, requires_grad=True):\n",
    "    coords = 2 * torch.rand(batch_size, 3, device=device)\n",
    "    coords = coords - 1\n",
    "    if requires_grad:\n",
    "        coords.requires_grad_()\n",
    "    return coords"
   ]
  },
  {
   "cell_type": "code",
   "execution_count": null,
   "id": "d8596f77",
   "metadata": {
    "vscode": {
     "languageId": "plaintext"
    }
   },
   "outputs": [
    {
     "name": "stderr",
     "output_type": "stream",
     "text": [
      "/usr/local/lib/python3.10/dist-packages/torch/autograd/graph.py:824: UserWarning: Attempting to run cuBLAS, but there was no current CUDA context! Attempting to set the primary context... (Triggered internally at /pytorch/aten/src/ATen/cuda/CublasHandlePool.cpp:181.)\n",
      "  return Variable._execution_engine.run_backward(  # Calls into the C++ engine to run the backward pass\n"
     ]
    },
    {
     "name": "stdout",
     "output_type": "stream",
     "text": [
      "Epoch 1/200 | Loss: 6217615.950000 | Data: 5105247.872500 | PDE: 111236811.190657\n",
      "✅ Best model saved at epoch 1 with data loss 5105247.872500\n",
      "Epoch 2/200 | Loss: 7184050.852500 | Data: 6646763.135000 | PDE: 53728774.220251\n"
     ]
    }
   ],
   "source": [
    "velocity_map_fn = VelocityMapFn(waveform_encoder).to(device)\n",
    "\n",
    "epochs = 200  # 任意で変更\n",
    "losses_total = []\n",
    "losses_data  = []\n",
    "losses_pde   = []\n",
    "\n",
    "best_loss_data = float('inf')\n",
    "best_model_path = \"best_model.pth\"\n",
    "\n",
    "for epoch in range(epochs):\n",
    "    velocity_map_fn.train()\n",
    "    waveform_encoder.train()\n",
    "    running_loss      = 0.0\n",
    "    running_loss_data = 0.0\n",
    "    running_loss_pde  = 0.0\n",
    "\n",
    "    for xb, yb in train_loader:\n",
    "        xb = xb.to(device)\n",
    "        yb = yb.to(device)\n",
    "        batch_size = xb.shape[0]\n",
    "        xzt = sample_coords(batch_size=batch_size).to(device)\n",
    "\n",
    "        residual = compute_pde_residual(model, velocity_map_fn, xb, xzt)\n",
    "        loss_pde = (residual**2).mean()\n",
    "\n",
    "        v_pred = waveform_encoder(xb)\n",
    "        loss_data = F.mse_loss(v_pred, yb)\n",
    "\n",
    "        loss = loss_data + 0.01 * loss_pde\n",
    "\n",
    "        optimizer.zero_grad()\n",
    "        loss.backward()\n",
    "        optimizer.step()\n",
    "\n",
    "        running_loss      += loss.item() * batch_size\n",
    "        running_loss_data += loss_data.item() * batch_size\n",
    "        running_loss_pde  += loss_pde.item() * batch_size\n",
    "\n",
    "    epoch_loss      = running_loss / len(train_loader.dataset)\n",
    "    epoch_loss_data = running_loss_data / len(train_loader.dataset)\n",
    "    epoch_loss_pde  = running_loss_pde / len(train_loader.dataset)\n",
    "\n",
    "    losses_total.append(epoch_loss)\n",
    "    losses_data.append(epoch_loss_data)\n",
    "    losses_pde.append(epoch_loss_pde)\n",
    "\n",
    "    print(f\"Epoch {epoch+1}/{epochs} | Loss: {epoch_loss:.6f} | Data: {epoch_loss_data:.6f} | PDE: {epoch_loss_pde:.6f}\")\n",
    "\n",
    "    # 📌 ベストモデル保存\n",
    "    if epoch_loss_data < best_loss_data:\n",
    "        best_loss_data = epoch_loss_data\n",
    "        torch.save(waveform_encoder.state_dict(), best_model_path)\n",
    "        print(f\"✅ Best model saved at epoch {epoch+1} with data loss {best_loss_data:.6f}\")\n",
    "\n",
    "print(\"Training finished!\")\n"
   ]
  },
  {
   "cell_type": "code",
   "execution_count": null,
   "id": "02559bf3-3901-4f54-918a-a324477f0ad1",
   "metadata": {},
   "outputs": [],
   "source": [
    "import matplotlib.pyplot as plt\n",
    "\n",
    "plt.figure(figsize=(8,5))\n",
    "plt.plot(losses_total, label='Total Loss')\n",
    "plt.plot(losses_data,  label='Data Loss (MSE)')\n",
    "plt.plot([0.01 * x for x in losses_pde], label='PDE Loss (scaled x0.01)')\n",
    "plt.xlabel(\"Epoch\")\n",
    "plt.ylabel(\"Loss\")\n",
    "plt.title(\"Training Loss Curve\")\n",
    "plt.legend()\n",
    "plt.grid(True)\n",
    "plt.tight_layout()\n",
    "plt.show()\n"
   ]
  },
  {
   "cell_type": "code",
   "execution_count": null,
   "id": "28761253-7daf-4175-978f-b73c1077249a",
   "metadata": {},
   "outputs": [],
   "source": [
    "import matplotlib.pyplot as plt\n",
    "\n",
    "# 予測用: モデルを推論モードに\n",
    "waveform_encoder.eval()\n",
    "\n",
    "n_show = 5  # 表示したいサンプル数\n",
    "\n",
    "with torch.no_grad():\n",
    "    xb, yb = next(iter(val_loader))\n",
    "    xb = xb.to(device)\n",
    "    yb = yb.to(device)\n",
    "    v_pred = waveform_encoder(xb)  # [B,1,70,70]\n",
    "\n",
    "# 描画\n",
    "fig, axes = plt.subplots(n_show, 2, figsize=(8, n_show*3))\n",
    "\n",
    "for i in range(n_show):\n",
    "    # 0番目からn_show番目まで\n",
    "    pred_img = v_pred[i, 0].detach().cpu().numpy()  # [70,70]\n",
    "    gt_img   = yb[i, 0].detach().cpu().numpy()      # [70,70]\n",
    "\n",
    "    # 正解\n",
    "    ax_gt = axes[i, 0]\n",
    "    im_gt = ax_gt.imshow(gt_img, cmap=\"jet\", aspect='auto')\n",
    "    ax_gt.set_title(f\"Ground Truth #{i}\")\n",
    "    fig.colorbar(im_gt, ax=ax_gt, fraction=0.046, pad=0.04)\n",
    "    ax_gt.axis(\"off\")\n",
    "\n",
    "    # 予測\n",
    "    ax_pred = axes[i, 1]\n",
    "    im_pred = ax_pred.imshow(pred_img, cmap=\"jet\", aspect='auto')\n",
    "    ax_pred.set_title(f\"Prediction #{i}\")\n",
    "    fig.colorbar(im_pred, ax=ax_pred, fraction=0.046, pad=0.04)\n",
    "    ax_pred.axis(\"off\")\n",
    "\n",
    "plt.tight_layout()\n",
    "plt.show()\n"
   ]
  },
  {
   "cell_type": "code",
   "execution_count": null,
   "id": "a93aaa07-ba63-46ea-9500-f63a1e4b4a10",
   "metadata": {},
   "outputs": [],
   "source": []
  }
 ],
 "metadata": {
  "kernelspec": {
   "display_name": "Python 3 (ipykernel)",
   "language": "python",
   "name": "python3"
  },
  "language_info": {
   "codemirror_mode": {
    "name": "ipython",
    "version": 3
   },
   "file_extension": ".py",
   "mimetype": "text/x-python",
   "name": "python",
   "nbconvert_exporter": "python",
   "pygments_lexer": "ipython3",
   "version": "3.10.12"
  }
 },
 "nbformat": 4,
 "nbformat_minor": 5
}
