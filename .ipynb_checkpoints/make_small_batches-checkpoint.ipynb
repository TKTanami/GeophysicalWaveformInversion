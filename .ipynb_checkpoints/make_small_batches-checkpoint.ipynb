{
 "cells": [
  {
   "cell_type": "code",
<<<<<<< HEAD
   "execution_count": null,
=======
   "execution_count": 2,
>>>>>>> 330dcda4d87701bd3d7fdbf394395c4d4579ad2b
   "id": "f6514e6c",
   "metadata": {
    "vscode": {
     "languageId": "plaintext"
    }
   },
<<<<<<< HEAD
   "outputs": [],
=======
   "outputs": [
    {
     "name": "stdout",
     "output_type": "stream",
     "text": [
      "Loaded waves: (1000, 5, 1000, 70)\n",
      "Loaded vels:  (1000, 1, 70, 70)\n",
      "Train shapes: (800, 5, 1000, 70) (800, 1, 70, 70)\n",
      " Val shapes: (200, 5, 1000, 70) (200, 1, 70, 70)\n",
      "Saved under ./dataset_one_batch/\n"
     ]
    }
   ],
>>>>>>> 330dcda4d87701bd3d7fdbf394395c4d4579ad2b
   "source": [
    "import numpy as np\n",
    "from sklearn.model_selection import train_test_split\n",
    "import os\n",
    "\n",
    "# 1) 小バッチ1つを読み込む\n",
    "batch_idx = 1  # 01～10 のうちどれかを選択\n",
    "waves = np.load(f\"./small_batches/waves_batch_{batch_idx:02d}.npy\")  # shape: (1000,5,1000,70)\n",
    "vels  = np.load(f\"./small_batches/vels_batch_{batch_idx:02d}.npy\")   # shape: (1000,1,70,70)\n",
    "\n",
    "print(\"Loaded waves:\", waves.shape)\n",
    "print(\"Loaded vels: \", vels.shape)\n",
    "\n",
    "# 2) 学習用と検証用に分割（例: 80% train, 20% val）\n",
    "X_train, X_val, y_train, y_val = train_test_split(\n",
    "    waves, vels,\n",
    "    test_size=0.2,\n",
    "    random_state=42,\n",
    "    shuffle=True\n",
    ")\n",
    "\n",
    "print(\"Train shapes:\", X_train.shape, y_train.shape)\n",
    "print(\" Val shapes:\", X_val.shape,   y_val.shape)\n",
    "\n",
    "# 3) 必要ならファイルに保存\n",
    "os.makedirs(\"./dataset_one_batch\", exist_ok=True)\n",
    "np.save(\"./dataset_one_batch/train_waves.npy\", X_train)\n",
    "np.save(\"./dataset_one_batch/train_vels.npy\",  y_train)\n",
    "np.save(\"./dataset_one_batch/val_waves.npy\",   X_val)\n",
    "np.save(\"./dataset_one_batch/val_vels.npy\",    y_val)\n",
    "print(\"Saved under ./dataset_one_batch/\")\n"
   ]
<<<<<<< HEAD
  }
 ],
 "metadata": {
  "language_info": {
   "name": "python"
=======
  },
  {
   "cell_type": "code",
   "execution_count": null,
   "id": "22cc8dd5-4d9e-4565-a4f5-fa4308f1a541",
   "metadata": {},
   "outputs": [],
   "source": []
  }
 ],
 "metadata": {
  "kernelspec": {
   "display_name": "Python 3 (ipykernel)",
   "language": "python",
   "name": "python3"
  },
  "language_info": {
   "codemirror_mode": {
    "name": "ipython",
    "version": 3
   },
   "file_extension": ".py",
   "mimetype": "text/x-python",
   "name": "python",
   "nbconvert_exporter": "python",
   "pygments_lexer": "ipython3",
   "version": "3.10.8"
>>>>>>> 330dcda4d87701bd3d7fdbf394395c4d4579ad2b
  }
 },
 "nbformat": 4,
 "nbformat_minor": 5
}
