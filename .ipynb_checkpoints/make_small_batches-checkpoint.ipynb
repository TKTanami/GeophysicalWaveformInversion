{
 "cells": [
  {
   "cell_type": "code",
   "execution_count": null,
   "id": "f6514e6c",
   "metadata": {
    "vscode": {
     "languageId": "plaintext"
    }
   },
   "outputs": [],
   "source": [
    "import numpy as np\n",
    "from sklearn.model_selection import train_test_split\n",
    "import os\n",
    "\n",
    "# 1) 小バッチ1つを読み込む\n",
    "batch_idx = 1  # 01～10 のうちどれかを選択\n",
    "waves = np.load(f\"./small_batches/waves_batch_{batch_idx:02d}.npy\")  # shape: (1000,5,1000,70)\n",
    "vels  = np.load(f\"./small_batches/vels_batch_{batch_idx:02d}.npy\")   # shape: (1000,1,70,70)\n",
    "\n",
    "print(\"Loaded waves:\", waves.shape)\n",
    "print(\"Loaded vels: \", vels.shape)\n",
    "\n",
    "# 2) 学習用と検証用に分割（例: 80% train, 20% val）\n",
    "X_train, X_val, y_train, y_val = train_test_split(\n",
    "    waves, vels,\n",
    "    test_size=0.2,\n",
    "    random_state=42,\n",
    "    shuffle=True\n",
    ")\n",
    "\n",
    "print(\"Train shapes:\", X_train.shape, y_train.shape)\n",
    "print(\" Val shapes:\", X_val.shape,   y_val.shape)\n",
    "\n",
    "# 3) 必要ならファイルに保存\n",
    "os.makedirs(\"./dataset_one_batch\", exist_ok=True)\n",
    "np.save(\"./dataset_one_batch/train_waves.npy\", X_train)\n",
    "np.save(\"./dataset_one_batch/train_vels.npy\",  y_train)\n",
    "np.save(\"./dataset_one_batch/val_waves.npy\",   X_val)\n",
    "np.save(\"./dataset_one_batch/val_vels.npy\",    y_val)\n",
    "print(\"Saved under ./dataset_one_batch/\")\n"
   ]
  }
 ],
 "metadata": {
  "language_info": {
   "name": "python"
  }
 },
 "nbformat": 4,
 "nbformat_minor": 5
}
