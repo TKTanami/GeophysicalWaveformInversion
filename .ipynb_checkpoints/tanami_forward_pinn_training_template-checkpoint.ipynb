{
 "cells": [
  {
   "cell_type": "code",
   "execution_count": 1,
   "metadata": {},
   "outputs": [],
   "source": [
    "# ✅ セットアップ（ライブラリインポート）"
   ]
  },
  {
   "cell_type": "code",
   "execution_count": 2,
   "metadata": {},
   "outputs": [],
   "source": [
    "import torch\n",
    "import torch.nn as nn\n",
    "import torch.nn.functional as F\n",
    "import matplotlib.pyplot as plt\n",
    "from torch.utils.data import DataLoader, Dataset"
   ]
  },
  {
   "cell_type": "code",
   "execution_count": 3,
   "metadata": {},
   "outputs": [],
   "source": [
    "# ✅ モデル定義：InverseVelocityDecoder（波形→速度マップ）"
   ]
  },
  {
   "cell_type": "code",
   "execution_count": 4,
   "metadata": {},
   "outputs": [],
   "source": [
    "class InverseVelocityDecoder(nn.Module):\n",
    "    def __init__(self):\n",
    "        super().__init__()\n",
    "        self.conv1 = nn.Conv3d(1, 16, (3, 5, 3), padding=1)\n",
    "        self.conv2 = nn.Conv3d(16, 32, 3, padding=1)\n",
    "        self.pool = nn.AdaptiveAvgPool3d((1, 10, 10))\n",
    "        self.fc = nn.Linear(32 * 10 * 10, 1024)\n",
    "        self.out = nn.Linear(1024, 70 * 70)\n",
    "\n",
    "    def forward(self, x):\n",
    "        x = x.unsqueeze(1)\n",
    "        x = F.relu(self.conv1(x))\n",
    "        x = F.relu(self.conv2(x))\n",
    "        x = self.pool(x)\n",
    "        x = x.view(x.size(0), -1)\n",
    "        x = F.relu(self.fc(x))\n",
    "        return self.out(x).view(-1, 1, 70, 70)"
   ]
  },
  {
   "cell_type": "code",
   "execution_count": 5,
   "metadata": {},
   "outputs": [],
   "source": [
    "# ✅ モデル定義：WaveNet（Forward PINNでu(x,z,t)を出力）"
   ]
  },
  {
   "cell_type": "code",
   "execution_count": 6,
   "metadata": {},
   "outputs": [],
   "source": [
    "class WaveNet(nn.Module):\n",
    "    def __init__(self, in_dim=3, hidden=128):\n",
    "        super().__init__()\n",
    "        self.net = nn.Sequential(\n",
    "            nn.Linear(in_dim, hidden), nn.Tanh(),\n",
    "            nn.Linear(hidden, hidden), nn.Tanh(),\n",
    "            nn.Linear(hidden, 1)\n",
    "        )\n",
    "\n",
    "    def forward(self, xzt):\n",
    "        return self.net(xzt)"
   ]
  },
  {
   "cell_type": "code",
   "execution_count": 7,
   "metadata": {},
   "outputs": [],
   "source": [
    "# ✅ VelocityMapFn（速度マップを連続関数化）"
   ]
  },
  {
   "cell_type": "code",
   "execution_count": 8,
   "metadata": {},
   "outputs": [],
   "source": [
    "class VelocityMapFn(nn.Module):\n",
    "    def __init__(self, model):\n",
    "        super().__init__()\n",
    "        self.model = model\n",
    "\n",
    "    def forward(self, waveform, coords):\n",
    "        v_grid = self.model(waveform)\n",
    "        coords = (coords + 1) / 2\n",
    "        coords = coords.unsqueeze(1).unsqueeze(1)\n",
    "        return F.grid_sample(v_grid, coords, align_corners=True).view(-1, 1)"
   ]
  },
  {
   "cell_type": "code",
   "execution_count": 9,
   "metadata": {},
   "outputs": [],
   "source": [
    "# ✅ PDE残差計算"
   ]
  },
  {
   "cell_type": "code",
   "execution_count": 10,
   "metadata": {},
   "outputs": [],
   "source": [
    "def compute_pde_residual(u_model, v_fn, waveform, xzt):\n",
    "    xzt.requires_grad_(True)\n",
    "    u = u_model(xzt)\n",
    "    grads = torch.autograd.grad(u, xzt, grad_outputs=torch.ones_like(u), create_graph=True)[0]\n",
    "    u_x, u_z, u_t = grads[:, 0:1], grads[:, 1:2], grads[:, 2:3]\n",
    "    u_xx = torch.autograd.grad(u_x, xzt, grad_outputs=torch.ones_like(u_x), create_graph=True)[0][:, 0:1]\n",
    "    u_zz = torch.autograd.grad(u_z, xzt, grad_outputs=torch.ones_like(u_z), create_graph=True)[0][:, 1:2]\n",
    "    u_tt = torch.autograd.grad(u_t, xzt, grad_outputs=torch.ones_like(u_t), create_graph=True)[0][:, 2:3]\n",
    "    v = v_fn(waveform, xzt[:, :2])\n",
    "    residual = u_tt - v**2 * (u_xx + u_zz)\n",
    "    return residual"
   ]
  },
  {
   "cell_type": "code",
   "execution_count": 11,
   "metadata": {},
   "outputs": [],
   "source": [
    "# ✅ 座標サンプラー"
   ]
  },
  {
   "cell_type": "code",
   "execution_count": 12,
   "metadata": {},
   "outputs": [],
   "source": [
    "def sample_coords(batch_size):\n",
    "    return 2.0 * torch.rand(batch_size, 3) - 1.0"
   ]
  },
  {
   "cell_type": "code",
   "execution_count": 13,
   "metadata": {},
   "outputs": [],
   "source": [
    "# ----------------------------\n",
    "# 2) Dataset 準備\n",
    "# ----------------------------\n",
    "\n",
    "import numpy as np\n",
    "from torch.utils.data import Dataset, DataLoader\n",
    "\n",
    "class WaveformDataset(Dataset):\n",
    "    def __init__(self, waves_path, vels_path):\n",
    "        self.waves = np.load(waves_path)  # shape: [N, 5, 1000, 7]\n",
    "        self.vels  = np.load(vels_path)   # shape: [N, 1, 70, 70]\n",
    "\n",
    "    def __len__(self):\n",
    "        return len(self.waves)\n",
    "\n",
    "    def __getitem__(self, idx):\n",
    "        x = torch.from_numpy(self.waves[idx]).float()\n",
    "        y = torch.from_numpy(self.vels[idx]).float()\n",
    "        return x, y\n",
    "\n",
    "# パスにある .npy データをロード\n",
    "train_ds = WaveformDataset(\"./dataset_one_batch/train_waves.npy\",\n",
    "                           \"./dataset_one_batch/train_vels.npy\")\n",
    "val_ds   = WaveformDataset(\"./dataset_one_batch/val_waves.npy\",\n",
    "                           \"./dataset_one_batch/val_vels.npy\")\n",
    "\n",
    "# DataLoaderの準備\n",
    "train_loader = DataLoader(train_ds, batch_size=16, shuffle=True, num_workers=2)\n",
    "val_loader   = DataLoader(val_ds,   batch_size=16, shuffle=False, num_workers=2)\n"
   ]
  },
  {
   "cell_type": "code",
   "execution_count": 14,
   "metadata": {},
   "outputs": [
    {
     "name": "stdout",
     "output_type": "stream",
     "text": [
      "train_loader size: 100\n",
      "Batch x shape: torch.Size([16, 5, 1000, 70])\n"
     ]
    }
   ],
   "source": [
    "print(\"train_loader size:\", len(train_loader))\n",
    "for x, y in train_loader:\n",
    "    print(\"Batch x shape:\", x.shape)\n",
    "    break"
   ]
  },
  {
   "cell_type": "code",
   "execution_count": 15,
   "metadata": {},
   "outputs": [],
   "source": [
    "# ✅ 学習 + 検証ループ"
   ]
  },
  {
   "cell_type": "code",
   "execution_count": 16,
   "metadata": {},
   "outputs": [],
   "source": [
    "def train_forward_pinn_with_val(\n",
    "    inverse_cnn, velocity_map_fn, wave_model,\n",
    "    train_loader, val_loader, optimizer, device,\n",
    "    epochs=200, best_model_path=\"best_forward_pinn_model.pth\"):\n",
    "    best_loss = float('inf')\n",
    "    train_losses, val_losses = [], []\n",
    "    for epoch in range(epochs):\n",
    "        inverse_cnn.train(); wave_model.train()\n",
    "        total_loss = 0.0\n",
    "        for xb, _ in train_loader:  # ybは不要な場合もあるので _ で無視\n",
    "            xb = xb.to(device)\n",
    "            xzt = sample_coords(batch_size=512).to(device)\n",
    "            residual = compute_pde_residual(wave_model, velocity_map_fn, xb, xzt)\n",
    "            loss_pde = (residual ** 2).mean()\n",
    "        \n",
    "            optimizer.zero_grad()\n",
    "            loss_pde.backward()\n",
    "            optimizer.step()\n",
    "            total_loss += loss_pde.item()\n",
    "\n",
    "        avg_train_loss = total_loss / len(train_loader)\n",
    "        train_losses.append(avg_train_loss)\n",
    "        # --- 検証 ---\n",
    "        wave_model.eval(); val_loss = 0.0\n",
    "        with torch.no_grad():\n",
    "            for xb, _ in val_loader:\n",
    "                xb = xb.to(device)\n",
    "                xzt = sample_coords(batch_size=512).to(device)\n",
    "                residual = compute_pde_residual(wave_model, velocity_map_fn, xb, xzt)\n",
    "                val_loss += (residual ** 2).mean().item()\n",
    "\n",
    "        avg_val_loss = val_loss / len(val_loader)\n",
    "        val_losses.append(avg_val_loss)\n",
    "        print(f\"Epoch {epoch+1}/{epochs} | Train: {avg_train_loss:.6f} | Val: {avg_val_loss:.6f}\")\n",
    "        if avg_val_loss < best_loss:\n",
    "            best_loss = avg_val_loss\n",
    "            torch.save(inverse_cnn.state_dict(), best_model_path)\n",
    "    return train_losses, val_losses"
   ]
  },
  {
   "cell_type": "code",
   "execution_count": 17,
   "metadata": {},
   "outputs": [
    {
     "ename": "AttributeError",
     "evalue": "'list' object has no attribute 'to'",
     "output_type": "error",
     "traceback": [
      "\u001b[0;31m---------------------------------------------------------------------------\u001b[0m",
      "\u001b[0;31mAttributeError\u001b[0m                            Traceback (most recent call last)",
      "Cell \u001b[0;32mIn[17], line 17\u001b[0m\n\u001b[1;32m     14\u001b[0m optimizer \u001b[38;5;241m=\u001b[39m torch\u001b[38;5;241m.\u001b[39moptim\u001b[38;5;241m.\u001b[39mAdam(inverse_cnn\u001b[38;5;241m.\u001b[39mparameters(), lr\u001b[38;5;241m=\u001b[39m\u001b[38;5;241m1e-3\u001b[39m)\n\u001b[1;32m     16\u001b[0m \u001b[38;5;66;03m# 学習の実行\u001b[39;00m\n\u001b[0;32m---> 17\u001b[0m train_losses, val_losses \u001b[38;5;241m=\u001b[39m \u001b[43mtrain_forward_pinn_with_val\u001b[49m\u001b[43m(\u001b[49m\n\u001b[1;32m     18\u001b[0m \u001b[43m    \u001b[49m\u001b[43minverse_cnn\u001b[49m\u001b[43m,\u001b[49m\n\u001b[1;32m     19\u001b[0m \u001b[43m    \u001b[49m\u001b[43mvelocity_map_fn\u001b[49m\u001b[43m,\u001b[49m\n\u001b[1;32m     20\u001b[0m \u001b[43m    \u001b[49m\u001b[43mwave_model\u001b[49m\u001b[43m,\u001b[49m\n\u001b[1;32m     21\u001b[0m \u001b[43m    \u001b[49m\u001b[43mtrain_loader\u001b[49m\u001b[43m,\u001b[49m\n\u001b[1;32m     22\u001b[0m \u001b[43m    \u001b[49m\u001b[43mval_loader\u001b[49m\u001b[43m,\u001b[49m\n\u001b[1;32m     23\u001b[0m \u001b[43m    \u001b[49m\u001b[43moptimizer\u001b[49m\u001b[43m,\u001b[49m\n\u001b[1;32m     24\u001b[0m \u001b[43m    \u001b[49m\u001b[43mdevice\u001b[49m\u001b[43m,\u001b[49m\n\u001b[1;32m     25\u001b[0m \u001b[43m    \u001b[49m\u001b[43mepochs\u001b[49m\u001b[38;5;241;43m=\u001b[39;49m\u001b[38;5;241;43m200\u001b[39;49m\u001b[43m,\u001b[49m\n\u001b[1;32m     26\u001b[0m \u001b[43m    \u001b[49m\u001b[43mbest_model_path\u001b[49m\u001b[38;5;241;43m=\u001b[39;49m\u001b[38;5;124;43m\"\u001b[39;49m\u001b[38;5;124;43mbest_forward_pinn_model.pth\u001b[39;49m\u001b[38;5;124;43m\"\u001b[39;49m\n\u001b[1;32m     27\u001b[0m \u001b[43m)\u001b[49m\n",
      "Cell \u001b[0;32mIn[16], line 11\u001b[0m, in \u001b[0;36mtrain_forward_pinn_with_val\u001b[0;34m(inverse_cnn, velocity_map_fn, wave_model, train_loader, val_loader, optimizer, device, epochs, best_model_path)\u001b[0m\n\u001b[1;32m      9\u001b[0m total_loss \u001b[38;5;241m=\u001b[39m \u001b[38;5;241m0.0\u001b[39m\n\u001b[1;32m     10\u001b[0m \u001b[38;5;28;01mfor\u001b[39;00m waveform_batch \u001b[38;5;129;01min\u001b[39;00m train_loader:\n\u001b[0;32m---> 11\u001b[0m     waveform_batch \u001b[38;5;241m=\u001b[39m \u001b[43mwaveform_batch\u001b[49m\u001b[38;5;241;43m.\u001b[39;49m\u001b[43mto\u001b[49m(device)\n\u001b[1;32m     12\u001b[0m     xzt \u001b[38;5;241m=\u001b[39m sample_coords(batch_size\u001b[38;5;241m=\u001b[39m\u001b[38;5;241m512\u001b[39m)\u001b[38;5;241m.\u001b[39mto(device)\n\u001b[1;32m     13\u001b[0m     residual \u001b[38;5;241m=\u001b[39m compute_pde_residual(wave_model, velocity_map_fn, waveform_batch, xzt)\n",
      "\u001b[0;31mAttributeError\u001b[0m: 'list' object has no attribute 'to'"
     ]
    }
   ],
   "source": [
    "# ----------------------------\n",
    "# 3) Training 実行\n",
    "# ----------------------------\n",
    "\n",
    "# デバイスの指定\n",
    "device = torch.device(\"cuda\" if torch.cuda.is_available() else \"cpu\")\n",
    "\n",
    "# モデルの初期化\n",
    "inverse_cnn = InverseVelocityDecoder().to(device)\n",
    "wave_model = WaveNet().to(device)\n",
    "velocity_map_fn = VelocityMapFn(inverse_cnn).to(device)\n",
    "\n",
    "# 最適化アルゴリズム\n",
    "optimizer = torch.optim.Adam(inverse_cnn.parameters(), lr=1e-3)\n",
    "\n",
    "# 学習の実行\n",
    "train_losses, val_losses = train_forward_pinn_with_val(\n",
    "    inverse_cnn,\n",
    "    velocity_map_fn,\n",
    "    wave_model,\n",
    "    train_loader,\n",
    "    val_loader,\n",
    "    optimizer,\n",
    "    device,\n",
    "    epochs=200,\n",
    "    best_model_path=\"best_forward_pinn_model.pth\"\n",
    ")\n"
   ]
  },
  {
   "cell_type": "code",
   "execution_count": null,
   "metadata": {},
   "outputs": [],
   "source": [
    "# ✅ 可視化（Loss曲線）"
   ]
  },
  {
   "cell_type": "code",
   "execution_count": null,
   "metadata": {},
   "outputs": [],
   "source": [
    "def plot_losses(train_losses, val_losses):\n",
    "    plt.figure()\n",
    "    plt.plot(train_losses, label='Train Loss')\n",
    "    plt.plot(val_losses, label='Val Loss')\n",
    "    plt.xlabel('Epoch')\n",
    "    plt.ylabel('PDE Loss')\n",
    "    plt.legend()\n",
    "    plt.title('Training vs Validation Loss')\n",
    "    plt.grid(True)\n",
    "    plt.show()"
   ]
  },
  {
   "cell_type": "code",
   "execution_count": null,
   "metadata": {},
   "outputs": [],
   "source": [
    "# ✅ 推論結果の可視化（予測 vs Ground Truth）\n",
    "\n",
    "import matplotlib.pyplot as plt\n",
    "\n",
    "# 推論モードに切り替え\n",
    "inverse_cnn.eval()\n",
    "\n",
    "n_show = 5  # 表示するサンプル数\n",
    "\n",
    "with torch.no_grad():\n",
    "    xb, yb = next(iter(val_loader))\n",
    "    xb = xb.to(device)\n",
    "    yb = yb.to(device)\n",
    "    v_pred = inverse_cnn(xb)  # [B,1,70,70]\n",
    "\n",
    "# 描画\n",
    "fig, axes = plt.subplots(n_show, 2, figsize=(8, n_show * 3))\n",
    "\n",
    "for i in range(n_show):\n",
    "    pred_img = v_pred[i, 0].detach().cpu().numpy()\n",
    "    gt_img   = yb[i, 0].detach().cpu().numpy()\n",
    "\n",
    "    ax_gt = axes[i, 0]\n",
    "    im_gt = ax_gt.imshow(gt_img, cmap=\"jet\", aspect='auto')\n",
    "    ax_gt.set_title(f\"Ground Truth #{i}\")\n",
    "    fig.colorbar(im_gt, ax=ax_gt, fraction=0.046, pad=0.04)\n",
    "    ax_gt.axis(\"off\")\n",
    "\n",
    "    ax_pred = axes[i, 1]\n",
    "    im_pred = ax_pred.imshow(pred_img, cmap=\"jet\", aspect='auto')\n",
    "    ax_pred.set_title(f\"Prediction #{i}\")\n",
    "    fig.colorbar(im_pred, ax=ax_pred, fraction=0.046, pad=0.04)\n",
    "    ax_pred.axis(\"off\")\n",
    "\n",
    "plt.tight_layout()\n",
    "plt.show()\n"
   ]
  }
 ],
 "metadata": {
  "kernelspec": {
   "display_name": "Python 3 (ipykernel)",
   "language": "python",
   "name": "python3"
  },
  "language_info": {
   "codemirror_mode": {
    "name": "ipython",
    "version": 3
   },
   "file_extension": ".py",
   "mimetype": "text/x-python",
   "name": "python",
   "nbconvert_exporter": "python",
   "pygments_lexer": "ipython3",
   "version": "3.10.12"
  }
 },
 "nbformat": 4,
 "nbformat_minor": 4
}
