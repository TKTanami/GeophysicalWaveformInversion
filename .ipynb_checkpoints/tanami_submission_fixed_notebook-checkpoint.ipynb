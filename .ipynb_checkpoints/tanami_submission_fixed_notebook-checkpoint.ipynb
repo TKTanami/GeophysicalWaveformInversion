{
 "cells": [
  {
   "cell_type": "markdown",
   "id": "0ba69cdc",
   "metadata": {},
   "source": [
    "# testを読み込んでsubmission.csvを出力する\n"
   ]
  },
  {
   "cell_type": "code",
   "execution_count": 1,
   "id": "9419351b",
   "metadata": {},
   "outputs": [
    {
     "name": "stdout",
     "output_type": "stream",
     "text": [
      "Using device: cuda\n"
     ]
    }
   ],
   "source": [
    "import os\n",
    "import numpy as np\n",
    "import torch\n",
    "import pandas as pd\n",
    "\n",
    "# 1) Device setup\n",
    "device = torch.device('cuda' if torch.cuda.is_available() else 'cpu')\n",
    "print('Using device:', device)\n"
   ]
  },
  {
   "cell_type": "markdown",
   "id": "7c621080",
   "metadata": {},
   "source": [
    "# 適切なモデル構造を最初に作って、その後に学習済みモデルを読み込む"
   ]
  },
  {
   "cell_type": "code",
   "execution_count": 2,
   "id": "3289c03d",
   "metadata": {},
   "outputs": [
    {
     "ename": "RuntimeError",
     "evalue": "Error(s) in loading state_dict for InversionNet70x70:\n\tMissing key(s) in state_dict: \"encoder.0.weight\", \"encoder.0.bias\", \"encoder.2.weight\", \"encoder.2.bias\", \"decoder.0.weight\", \"decoder.0.bias\", \"decoder.2.weight\", \"decoder.2.bias\". \n\tUnexpected key(s) in state_dict: \"inc.block.0.weight\", \"inc.block.0.bias\", \"inc.block.1.weight\", \"inc.block.1.bias\", \"inc.block.1.running_mean\", \"inc.block.1.running_var\", \"inc.block.1.num_batches_tracked\", \"inc.block.3.weight\", \"inc.block.3.bias\", \"inc.block.4.weight\", \"inc.block.4.bias\", \"inc.block.4.running_mean\", \"inc.block.4.running_var\", \"inc.block.4.num_batches_tracked\", \"down1.1.block.0.weight\", \"down1.1.block.0.bias\", \"down1.1.block.1.weight\", \"down1.1.block.1.bias\", \"down1.1.block.1.running_mean\", \"down1.1.block.1.running_var\", \"down1.1.block.1.num_batches_tracked\", \"down1.1.block.3.weight\", \"down1.1.block.3.bias\", \"down1.1.block.4.weight\", \"down1.1.block.4.bias\", \"down1.1.block.4.running_mean\", \"down1.1.block.4.running_var\", \"down1.1.block.4.num_batches_tracked\", \"down2.1.block.0.weight\", \"down2.1.block.0.bias\", \"down2.1.block.1.weight\", \"down2.1.block.1.bias\", \"down2.1.block.1.running_mean\", \"down2.1.block.1.running_var\", \"down2.1.block.1.num_batches_tracked\", \"down2.1.block.3.weight\", \"down2.1.block.3.bias\", \"down2.1.block.4.weight\", \"down2.1.block.4.bias\", \"down2.1.block.4.running_mean\", \"down2.1.block.4.running_var\", \"down2.1.block.4.num_batches_tracked\", \"down3.1.block.0.weight\", \"down3.1.block.0.bias\", \"down3.1.block.1.weight\", \"down3.1.block.1.bias\", \"down3.1.block.1.running_mean\", \"down3.1.block.1.running_var\", \"down3.1.block.1.num_batches_tracked\", \"down3.1.block.3.weight\", \"down3.1.block.3.bias\", \"down3.1.block.4.weight\", \"down3.1.block.4.bias\", \"down3.1.block.4.running_mean\", \"down3.1.block.4.running_var\", \"down3.1.block.4.num_batches_tracked\", \"bot.block.0.weight\", \"bot.block.0.bias\", \"bot.block.1.weight\", \"bot.block.1.bias\", \"bot.block.1.running_mean\", \"bot.block.1.running_var\", \"bot.block.1.num_batches_tracked\", \"bot.block.3.weight\", \"bot.block.3.bias\", \"bot.block.4.weight\", \"bot.block.4.bias\", \"bot.block.4.running_mean\", \"bot.block.4.running_var\", \"bot.block.4.num_batches_tracked\", \"up3.weight\", \"up3.bias\", \"dec3.block.0.weight\", \"dec3.block.0.bias\", \"dec3.block.1.weight\", \"dec3.block.1.bias\", \"dec3.block.1.running_mean\", \"dec3.block.1.running_var\", \"dec3.block.1.num_batches_tracked\", \"dec3.block.3.weight\", \"dec3.block.3.bias\", \"dec3.block.4.weight\", \"dec3.block.4.bias\", \"dec3.block.4.running_mean\", \"dec3.block.4.running_var\", \"dec3.block.4.num_batches_tracked\", \"up2.weight\", \"up2.bias\", \"dec2.block.0.weight\", \"dec2.block.0.bias\", \"dec2.block.1.weight\", \"dec2.block.1.bias\", \"dec2.block.1.running_mean\", \"dec2.block.1.running_var\", \"dec2.block.1.num_batches_tracked\", \"dec2.block.3.weight\", \"dec2.block.3.bias\", \"dec2.block.4.weight\", \"dec2.block.4.bias\", \"dec2.block.4.running_mean\", \"dec2.block.4.running_var\", \"dec2.block.4.num_batches_tracked\", \"up1.weight\", \"up1.bias\", \"dec1.block.0.weight\", \"dec1.block.0.bias\", \"dec1.block.1.weight\", \"dec1.block.1.bias\", \"dec1.block.1.running_mean\", \"dec1.block.1.running_var\", \"dec1.block.1.num_batches_tracked\", \"dec1.block.3.weight\", \"dec1.block.3.bias\", \"dec1.block.4.weight\", \"dec1.block.4.bias\", \"dec1.block.4.running_mean\", \"dec1.block.4.running_var\", \"dec1.block.4.num_batches_tracked\", \"outc.weight\", \"outc.bias\". ",
     "output_type": "error",
     "traceback": [
      "\u001b[0;31m---------------------------------------------------------------------------\u001b[0m",
      "\u001b[0;31mRuntimeError\u001b[0m                              Traceback (most recent call last)",
      "Cell \u001b[0;32mIn[2], line 28\u001b[0m\n\u001b[1;32m     26\u001b[0m model \u001b[38;5;241m=\u001b[39m InversionNet70x70()\u001b[38;5;241m.\u001b[39mto(device)\n\u001b[1;32m     27\u001b[0m checkpoint \u001b[38;5;241m=\u001b[39m torch\u001b[38;5;241m.\u001b[39mload(\u001b[38;5;124m'\u001b[39m\u001b[38;5;124mbest_model.pth\u001b[39m\u001b[38;5;124m'\u001b[39m, map_location\u001b[38;5;241m=\u001b[39mdevice)\n\u001b[0;32m---> 28\u001b[0m \u001b[43mmodel\u001b[49m\u001b[38;5;241;43m.\u001b[39;49m\u001b[43mload_state_dict\u001b[49m\u001b[43m(\u001b[49m\u001b[43mcheckpoint\u001b[49m\u001b[43m[\u001b[49m\u001b[38;5;124;43m'\u001b[39;49m\u001b[38;5;124;43mmodel_state_dict\u001b[39;49m\u001b[38;5;124;43m'\u001b[39;49m\u001b[43m]\u001b[49m\u001b[43m)\u001b[49m\n\u001b[1;32m     29\u001b[0m model\u001b[38;5;241m.\u001b[39meval()\n",
      "File \u001b[0;32m/usr/local/lib/python3.10/dist-packages/torch/nn/modules/module.py:2593\u001b[0m, in \u001b[0;36mModule.load_state_dict\u001b[0;34m(self, state_dict, strict, assign)\u001b[0m\n\u001b[1;32m   2585\u001b[0m         error_msgs\u001b[38;5;241m.\u001b[39minsert(\n\u001b[1;32m   2586\u001b[0m             \u001b[38;5;241m0\u001b[39m,\n\u001b[1;32m   2587\u001b[0m             \u001b[38;5;124m\"\u001b[39m\u001b[38;5;124mMissing key(s) in state_dict: \u001b[39m\u001b[38;5;132;01m{}\u001b[39;00m\u001b[38;5;124m. \u001b[39m\u001b[38;5;124m\"\u001b[39m\u001b[38;5;241m.\u001b[39mformat(\n\u001b[1;32m   2588\u001b[0m                 \u001b[38;5;124m\"\u001b[39m\u001b[38;5;124m, \u001b[39m\u001b[38;5;124m\"\u001b[39m\u001b[38;5;241m.\u001b[39mjoin(\u001b[38;5;124mf\u001b[39m\u001b[38;5;124m'\u001b[39m\u001b[38;5;124m\"\u001b[39m\u001b[38;5;132;01m{\u001b[39;00mk\u001b[38;5;132;01m}\u001b[39;00m\u001b[38;5;124m\"\u001b[39m\u001b[38;5;124m'\u001b[39m \u001b[38;5;28;01mfor\u001b[39;00m k \u001b[38;5;129;01min\u001b[39;00m missing_keys)\n\u001b[1;32m   2589\u001b[0m             ),\n\u001b[1;32m   2590\u001b[0m         )\n\u001b[1;32m   2592\u001b[0m \u001b[38;5;28;01mif\u001b[39;00m \u001b[38;5;28mlen\u001b[39m(error_msgs) \u001b[38;5;241m>\u001b[39m \u001b[38;5;241m0\u001b[39m:\n\u001b[0;32m-> 2593\u001b[0m     \u001b[38;5;28;01mraise\u001b[39;00m \u001b[38;5;167;01mRuntimeError\u001b[39;00m(\n\u001b[1;32m   2594\u001b[0m         \u001b[38;5;124m\"\u001b[39m\u001b[38;5;124mError(s) in loading state_dict for \u001b[39m\u001b[38;5;132;01m{}\u001b[39;00m\u001b[38;5;124m:\u001b[39m\u001b[38;5;130;01m\\n\u001b[39;00m\u001b[38;5;130;01m\\t\u001b[39;00m\u001b[38;5;132;01m{}\u001b[39;00m\u001b[38;5;124m\"\u001b[39m\u001b[38;5;241m.\u001b[39mformat(\n\u001b[1;32m   2595\u001b[0m             \u001b[38;5;28mself\u001b[39m\u001b[38;5;241m.\u001b[39m\u001b[38;5;18m__class__\u001b[39m\u001b[38;5;241m.\u001b[39m\u001b[38;5;18m__name__\u001b[39m, \u001b[38;5;124m\"\u001b[39m\u001b[38;5;130;01m\\n\u001b[39;00m\u001b[38;5;130;01m\\t\u001b[39;00m\u001b[38;5;124m\"\u001b[39m\u001b[38;5;241m.\u001b[39mjoin(error_msgs)\n\u001b[1;32m   2596\u001b[0m         )\n\u001b[1;32m   2597\u001b[0m     )\n\u001b[1;32m   2598\u001b[0m \u001b[38;5;28;01mreturn\u001b[39;00m _IncompatibleKeys(missing_keys, unexpected_keys)\n",
      "\u001b[0;31mRuntimeError\u001b[0m: Error(s) in loading state_dict for InversionNet70x70:\n\tMissing key(s) in state_dict: \"encoder.0.weight\", \"encoder.0.bias\", \"encoder.2.weight\", \"encoder.2.bias\", \"decoder.0.weight\", \"decoder.0.bias\", \"decoder.2.weight\", \"decoder.2.bias\". \n\tUnexpected key(s) in state_dict: \"inc.block.0.weight\", \"inc.block.0.bias\", \"inc.block.1.weight\", \"inc.block.1.bias\", \"inc.block.1.running_mean\", \"inc.block.1.running_var\", \"inc.block.1.num_batches_tracked\", \"inc.block.3.weight\", \"inc.block.3.bias\", \"inc.block.4.weight\", \"inc.block.4.bias\", \"inc.block.4.running_mean\", \"inc.block.4.running_var\", \"inc.block.4.num_batches_tracked\", \"down1.1.block.0.weight\", \"down1.1.block.0.bias\", \"down1.1.block.1.weight\", \"down1.1.block.1.bias\", \"down1.1.block.1.running_mean\", \"down1.1.block.1.running_var\", \"down1.1.block.1.num_batches_tracked\", \"down1.1.block.3.weight\", \"down1.1.block.3.bias\", \"down1.1.block.4.weight\", \"down1.1.block.4.bias\", \"down1.1.block.4.running_mean\", \"down1.1.block.4.running_var\", \"down1.1.block.4.num_batches_tracked\", \"down2.1.block.0.weight\", \"down2.1.block.0.bias\", \"down2.1.block.1.weight\", \"down2.1.block.1.bias\", \"down2.1.block.1.running_mean\", \"down2.1.block.1.running_var\", \"down2.1.block.1.num_batches_tracked\", \"down2.1.block.3.weight\", \"down2.1.block.3.bias\", \"down2.1.block.4.weight\", \"down2.1.block.4.bias\", \"down2.1.block.4.running_mean\", \"down2.1.block.4.running_var\", \"down2.1.block.4.num_batches_tracked\", \"down3.1.block.0.weight\", \"down3.1.block.0.bias\", \"down3.1.block.1.weight\", \"down3.1.block.1.bias\", \"down3.1.block.1.running_mean\", \"down3.1.block.1.running_var\", \"down3.1.block.1.num_batches_tracked\", \"down3.1.block.3.weight\", \"down3.1.block.3.bias\", \"down3.1.block.4.weight\", \"down3.1.block.4.bias\", \"down3.1.block.4.running_mean\", \"down3.1.block.4.running_var\", \"down3.1.block.4.num_batches_tracked\", \"bot.block.0.weight\", \"bot.block.0.bias\", \"bot.block.1.weight\", \"bot.block.1.bias\", \"bot.block.1.running_mean\", \"bot.block.1.running_var\", \"bot.block.1.num_batches_tracked\", \"bot.block.3.weight\", \"bot.block.3.bias\", \"bot.block.4.weight\", \"bot.block.4.bias\", \"bot.block.4.running_mean\", \"bot.block.4.running_var\", \"bot.block.4.num_batches_tracked\", \"up3.weight\", \"up3.bias\", \"dec3.block.0.weight\", \"dec3.block.0.bias\", \"dec3.block.1.weight\", \"dec3.block.1.bias\", \"dec3.block.1.running_mean\", \"dec3.block.1.running_var\", \"dec3.block.1.num_batches_tracked\", \"dec3.block.3.weight\", \"dec3.block.3.bias\", \"dec3.block.4.weight\", \"dec3.block.4.bias\", \"dec3.block.4.running_mean\", \"dec3.block.4.running_var\", \"dec3.block.4.num_batches_tracked\", \"up2.weight\", \"up2.bias\", \"dec2.block.0.weight\", \"dec2.block.0.bias\", \"dec2.block.1.weight\", \"dec2.block.1.bias\", \"dec2.block.1.running_mean\", \"dec2.block.1.running_var\", \"dec2.block.1.num_batches_tracked\", \"dec2.block.3.weight\", \"dec2.block.3.bias\", \"dec2.block.4.weight\", \"dec2.block.4.bias\", \"dec2.block.4.running_mean\", \"dec2.block.4.running_var\", \"dec2.block.4.num_batches_tracked\", \"up1.weight\", \"up1.bias\", \"dec1.block.0.weight\", \"dec1.block.0.bias\", \"dec1.block.1.weight\", \"dec1.block.1.bias\", \"dec1.block.1.running_mean\", \"dec1.block.1.running_var\", \"dec1.block.1.num_batches_tracked\", \"dec1.block.3.weight\", \"dec1.block.3.bias\", \"dec1.block.4.weight\", \"dec1.block.4.bias\", \"dec1.block.4.running_mean\", \"dec1.block.4.running_var\", \"dec1.block.4.num_batches_tracked\", \"outc.weight\", \"outc.bias\". "
     ]
    }
   ],
   "source": [
    "from torch import nn\n",
    "\n",
    "# 2) Model definition\n",
    "class InversionNet70x70(nn.Module):\n",
    "    def __init__(self):\n",
    "        super().__init__()\n",
    "        self.encoder = nn.Sequential(\n",
    "            nn.Conv2d(5, 32, kernel_size=3, padding=1),\n",
    "            nn.ReLU(),\n",
    "            nn.Conv2d(32, 64, kernel_size=3, padding=1),\n",
    "            nn.ReLU(),\n",
    "        )\n",
    "        self.decoder = nn.Sequential(\n",
    "            nn.ConvTranspose2d(64, 32, kernel_size=3, padding=1),\n",
    "            nn.ReLU(),\n",
    "            nn.ConvTranspose2d(32, 1, kernel_size=3, padding=1),\n",
    "            nn.Sigmoid(),\n",
    "        )\n",
    "\n",
    "    def forward(self, x):\n",
    "        x = self.encoder(x)\n",
    "        x = self.decoder(x)\n",
    "        return x\n",
    "\n",
    "# Load pretrained model\n",
    "model = InversionNet70x70().to(device)\n",
    "checkpoint = torch.load('best_model.pth', map_location=device)\n",
    "model.load_state_dict(checkpoint['model_state_dict'])\n",
    "model.eval()\n",
    "\n",
    "\n"
   ]
  },
  {
   "cell_type": "markdown",
   "id": "07fe5744",
   "metadata": {},
   "source": [
    "# 学習済みモデルでテストデータに対して推論。その後csvデータを出力"
   ]
  },
  {
   "cell_type": "code",
   "execution_count": null,
   "id": "6a521616",
   "metadata": {},
   "outputs": [],
   "source": [
    "# 3) Inference & CSV generation\n",
    "test_dir = './data/waveform-inversion/test'\n",
    "test_files = sorted([os.path.join(test_dir, f) for f in os.listdir(test_dir) if f.endswith('.npy')])\n",
    "\n",
    "rows = []\n",
    "for fp in test_files:\n",
    "    arr = np.load(fp)                          # shape=(5,1000,70)\n",
    "    inp = torch.from_numpy(arr).unsqueeze(0).float().to(device)  # (1,5,1000,70)\n",
    "    with torch.no_grad():\n",
    "        out = model(inp).squeeze(0).squeeze(0).cpu().numpy()     # (70,70)\n",
    "    fid = os.path.splitext(os.path.basename(fp))[0]\n",
    "    for y in range(out.shape[0]):\n",
    "        row = {'oid_ypos': f'{fid}_y_{y}'}\n",
    "        for j, xpos in enumerate(range(0, 70, 2)):\n",
    "            row[f'x_{2*j+1}'] = out[y, xpos]\n",
    "        rows.append(row)\n",
    "\n",
    "df = pd.DataFrame(rows)\n",
    "cols = ['oid_ypos'] + [f'x_{i}' for i in range(1, 70, 2)]\n",
    "df = df[cols]\n",
    "\n",
    "df.head()\n",
    "\n",
    "#df.head(10)で確認できたら出力\n",
    "\n",
    "#\n",
    "# \n",
    "# df.to_csv('submission.csv', index=False)\n",
    "\n"
   ]
  }
 ],
 "metadata": {
  "kernelspec": {
   "display_name": "Python 3 (ipykernel)",
   "language": "python",
   "name": "python3"
  },
  "language_info": {
   "codemirror_mode": {
    "name": "ipython",
    "version": 3
   },
   "file_extension": ".py",
   "mimetype": "text/x-python",
   "name": "python",
   "nbconvert_exporter": "python",
   "pygments_lexer": "ipython3",
   "version": "3.10.12"
  }
 },
 "nbformat": 4,
 "nbformat_minor": 5
}
