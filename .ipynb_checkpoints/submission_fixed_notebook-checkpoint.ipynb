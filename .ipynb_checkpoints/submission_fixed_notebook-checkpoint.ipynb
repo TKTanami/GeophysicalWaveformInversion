{
 "cells": [
  {
   "cell_type": "markdown",
   "metadata": {},
   "source": [
    "# testを読み込んでsubmission.csvを出力する\n"
   ]
  },
  {
   "cell_type": "code",
   "execution_count": null,
   "metadata": {},
   "outputs": [],
   "source": [
    "import os\n",
    "import numpy as np\n",
    "import torch\n",
    "import pandas as pd\n",
    "\n",
    "# 1) Device setup\n",
    "device = torch.device('cuda' if torch.cuda.is_available() else 'cpu')\n",
    "print('Using device:', device)\n"
   ]
  },
  {
   "cell_type": "markdown",
   "id": "7c621080",
   "metadata": {},
   "source": [
    "# 適切なモデル構造を最初に作って、その後に学習済みモデルを読み込む"
   ]
  },
  {
   "cell_type": "code",
   "execution_count": null,
   "metadata": {},
   "outputs": [],
   "source": [
    "from torch import nn\n",
    "\n",
    "# 2) Model definition\n",
    "class InversionNet70x70(nn.Module):\n",
    "    def __init__(self):\n",
    "        super().__init__()\n",
    "        self.encoder = nn.Sequential(\n",
    "            nn.Conv2d(5, 32, kernel_size=3, padding=1),\n",
    "            nn.ReLU(),\n",
    "            nn.Conv2d(32, 64, kernel_size=3, padding=1),\n",
    "            nn.ReLU(),\n",
    "        )\n",
    "        self.decoder = nn.Sequential(\n",
    "            nn.ConvTranspose2d(64, 32, kernel_size=3, padding=1),\n",
    "            nn.ReLU(),\n",
    "            nn.ConvTranspose2d(32, 1, kernel_size=3, padding=1),\n",
    "            nn.Sigmoid(),\n",
    "        )\n",
    "\n",
    "    def forward(self, x):\n",
    "        x = self.encoder(x)\n",
    "        x = self.decoder(x)\n",
    "        return x\n",
    "\n",
    "# Load pretrained model\n",
    "model = InversionNet70x70().to(device)\n",
    "model.load_state_dict(torch.load('first_model.pth', map_location=device))\n",
    "model.eval()\n"
   ]
  },
  {
   "cell_type": "markdown",
   "id": "07fe5744",
   "metadata": {},
   "source": [
    "# 学習済みモデルでテストデータに対して推論。その後csvデータを出力"
   ]
  },
  {
   "cell_type": "code",
   "execution_count": null,
   "id": "6a521616",
   "metadata": {},
   "outputs": [],
   "source": [
    "# 3) Inference & CSV generation\n",
    "test_dir = './data/waveform-inversion/test'\n",
    "test_files = sorted([os.path.join(test_dir, f) for f in os.listdir(test_dir) if f.endswith('.npy')])\n",
    "\n",
    "rows = []\n",
    "for fp in test_files:\n",
    "    arr = np.load(fp)                          # shape=(5,1000,70)\n",
    "    inp = torch.from_numpy(arr).unsqueeze(0).float().to(device)  # (1,5,1000,70)\n",
    "    with torch.no_grad():\n",
    "        out = model(inp).squeeze(0).squeeze(0).cpu().numpy()     # (70,70)\n",
    "    fid = os.path.splitext(os.path.basename(fp))[0]\n",
    "    for y in range(out.shape[0]):\n",
    "        row = {'oid_ypos': f'{fid}_y_{y}'}\n",
    "        for j, xpos in enumerate(range(0, 70, 2)):\n",
    "            row[f'x_{2*j+1}'] = out[y, xpos]\n",
    "        rows.append(row)\n",
    "\n",
    "df = pd.DataFrame(rows)\n",
    "cols = ['oid_ypos'] + [f'x_{i}' for i in range(1, 70, 2)]\n",
    "df = df[cols]\n",
    "\n",
    "df.head()\n",
    "\n",
    "#df.head(10)で確認できたら出力\n",
    "\n",
    "#\n",
    "# \n",
    "# df.to_csv('submission.csv', index=False)\n",
    "\n"
   ]
  }
 ],
 "metadata": {
  "language_info": {
   "name": "python"
  }
 },
 "nbformat": 4,
 "nbformat_minor": 5
}
