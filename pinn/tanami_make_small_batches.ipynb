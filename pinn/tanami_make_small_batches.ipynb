{
 "cells": [
  {
   "cell_type": "code",
   "execution_count": 1,
   "id": "f6514e6c",
   "metadata": {
    "vscode": {
     "languageId": "plaintext"
    }
   },
   "outputs": [
    {
     "name": "stdout",
     "output_type": "stream",
     "text": [
      "Loaded waves: (2000, 5, 1000, 70)\n",
      "Loaded vels:  (2000, 1, 70, 70)\n",
      "Train shapes: (1600, 5, 1000, 70) (1600, 1, 70, 70)\n",
      " Val shapes: (400, 5, 1000, 70) (400, 1, 70, 70)\n",
      "Saved under ./dataset_one_batch/\n"
     ]
    }
   ],
   "source": [
    "import numpy as np\n",
    "from sklearn.model_selection import train_test_split\n",
    "import os\n",
    "\n",
    "waves = np.load(f\"./dataset/wave.npy\")  # shape: (1000,5,1000,70)\n",
    "vels  = np.load(f\"./dataset/vel.npy\")   # shape: (1000,1,70,70)\n",
    "\n",
    "print(\"Loaded waves:\", waves.shape)\n",
    "print(\"Loaded vels: \", vels.shape)\n",
    "\n",
    "# 2) 学習用と検証用に分割（例: 80% train, 20% val）\n",
    "X_train, X_val, y_train, y_val = train_test_split(\n",
    "    waves, vels,\n",
    "    test_size=0.2,\n",
    "    random_state=42,\n",
    "    shuffle=True\n",
    ")\n",
    "\n",
    "print(\"Train shapes:\", X_train.shape, y_train.shape)\n",
    "print(\" Val shapes:\", X_val.shape,   y_val.shape)\n",
    "\n",
    "# 3) 必要ならファイルに保存\n",
    "os.makedirs(\"./dataset_one_batch\", exist_ok=True)\n",
    "np.save(\"./dataset_one_batch/train_waves.npy\", X_train)\n",
    "np.save(\"./dataset_one_batch/train_vels.npy\",  y_train)\n",
    "np.save(\"./dataset_one_batch/val_waves.npy\",   X_val)\n",
    "np.save(\"./dataset_one_batch/val_vels.npy\",    y_val)\n",
    "print(\"Saved under ./dataset_one_batch/\")\n"
   ]
  },
  {
   "cell_type": "code",
   "execution_count": null,
   "id": "f668dd8f-35ff-433c-b3e3-7b1865ba35db",
   "metadata": {},
   "outputs": [],
   "source": []
  }
 ],
 "metadata": {
  "kernelspec": {
   "display_name": "Python 3 (ipykernel)",
   "language": "python",
   "name": "python3"
  },
  "language_info": {
   "codemirror_mode": {
    "name": "ipython",
    "version": 3
   },
   "file_extension": ".py",
   "mimetype": "text/x-python",
   "name": "python",
   "nbconvert_exporter": "python",
   "pygments_lexer": "ipython3",
   "version": "3.10.12"
  }
 },
 "nbformat": 4,
 "nbformat_minor": 5
}
