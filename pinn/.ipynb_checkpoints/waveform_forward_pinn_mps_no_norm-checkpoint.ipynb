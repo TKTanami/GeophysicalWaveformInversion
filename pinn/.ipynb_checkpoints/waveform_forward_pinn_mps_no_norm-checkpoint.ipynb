{
 "cells": [
  {
   "cell_type": "code",
   "execution_count": null,
   "id": "284288a7",
   "metadata": {},
   "outputs": [],
   "source": [
    "import torch\n",
    "import torch.nn as nn\n",
    "import torch.nn.functional as F\n",
    "import numpy as np\n",
    "import matplotlib.pyplot as plt\n",
    "from torch.utils.data import Dataset, DataLoader\n",
    "from sklearn.metrics import mean_absolute_error\n"
   ]
  },
  {
   "cell_type": "code",
   "execution_count": null,
   "id": "17e1f78c",
   "metadata": {},
   "outputs": [],
   "source": [
    "class WaveformDataset(Dataset):\n",
    "    def __init__(self, waves_path, vels_path):\n",
    "        self.waves = np.load(waves_path)\n",
    "        self.vels  = np.load(vels_path)\n",
    "    def __len__(self):\n",
    "        return len(self.waves)\n",
    "    def __getitem__(self, idx):\n",
    "        x = torch.from_numpy(self.waves[idx]).float()\n",
    "        y = torch.from_numpy(self.vels[idx]).float()\n",
    "        return x, y\n",
    "\n",
    "train_ds = WaveformDataset(\"./dataset_one_batch/train_waves.npy\", \"./dataset_one_batch/train_vels.npy\")\n",
    "val_ds   = WaveformDataset(\"./dataset_one_batch/val_waves.npy\", \"./dataset_one_batch/val_vels.npy\")\n",
    "\n",
    "train_loader = DataLoader(train_ds, batch_size=8, shuffle=True)\n",
    "val_loader   = DataLoader(val_ds, batch_size=8, shuffle=False)\n"
   ]
  },
  {
   "cell_type": "code",
   "execution_count": null,
   "id": "2baf0370",
   "metadata": {},
   "outputs": [],
   "source": [
    "class WaveformEncoder(nn.Module):\n",
    "    def __init__(self):\n",
    "        super().__init__()\n",
    "        self.conv1 = nn.Conv3d(1, 16, kernel_size=(3, 5, 3), padding=(1, 2, 1))\n",
    "        self.conv2 = nn.Conv3d(16, 32, kernel_size=3, padding=1)\n",
    "        self.pool = nn.AdaptiveAvgPool3d((1, 10, 10))\n",
    "        self.fc = nn.Linear(32 * 10 * 10, 1024)\n",
    "        self.out = nn.Linear(1024, 70 * 70)\n",
    "        torch.nn.init.constant_(self.out.bias, 2500)\n",
    "\n",
    "    def forward(self, x):\n",
    "        x = x.unsqueeze(1)\n",
    "        x = F.relu(self.conv1(x))\n",
    "        x = F.relu(self.conv2(x))\n",
    "        x = self.pool(x)\n",
    "        x = x.view(x.size(0), -1)\n",
    "        x = F.relu(self.fc(x))\n",
    "        x = F.relu(self.out(x))\n",
    "        return x.view(-1, 1, 70, 70)\n"
   ]
  },
  {
   "cell_type": "code",
   "execution_count": null,
   "id": "be955cc9",
   "metadata": {},
   "outputs": [],
   "source": [
    "device = torch.device(\"cuda\" if torch.cuda.is_available() else \"cpu\")\n",
    "model = WaveformEncoder().to(device)\n",
    "optimizer = torch.optim.Adam(model.parameters(), lr=1e-3)\n",
    "criterion = nn.MSELoss()\n",
    "\n",
    "epochs = 20\n",
    "model.train()\n",
    "for epoch in range(epochs):\n",
    "    total_loss = 0.0\n",
    "    for xb, yb in train_loader:\n",
    "        xb, yb = xb.to(device), yb.to(device)\n",
    "        optimizer.zero_grad()\n",
    "        preds = model(xb)\n",
    "        loss = criterion(preds, yb)\n",
    "        loss.backward()\n",
    "        optimizer.step()\n",
    "        total_loss += loss.item() * xb.size(0)\n",
    "    print(f\"Epoch {epoch+1}: Loss = {total_loss / len(train_loader.dataset):.4f}\")\n"
   ]
  },
  {
   "cell_type": "code",
   "execution_count": null,
   "id": "ef2b48c6",
   "metadata": {},
   "outputs": [],
   "source": [
    "model.eval()\n",
    "mae_list = []\n",
    "with torch.no_grad():\n",
    "    for xb, yb in val_loader:\n",
    "        xb = xb.to(device)\n",
    "        preds = model(xb).cpu().numpy()\n",
    "        targets = yb.numpy()\n",
    "        mae = np.abs(preds - targets).mean()\n",
    "        mae_list.append(mae)\n",
    "\n",
    "print(f\"Mean Absolute Error on validation set: {np.mean(mae_list):.2f} m/s\")\n"
   ]
  },
  {
   "cell_type": "code",
   "execution_count": null,
   "id": "40f067bd",
   "metadata": {},
   "outputs": [],
   "source": [
    "xb, yb = next(iter(val_loader))\n",
    "xb = xb.to(device)\n",
    "with torch.no_grad():\n",
    "    v_pred = model(xb).cpu()\n",
    "\n",
    "fig, axes = plt.subplots(2, 2, figsize=(10, 8))\n",
    "for i in range(2):\n",
    "    axes[i, 0].imshow(yb[i, 0], cmap=\"jet\", vmin=2000, vmax=4000)\n",
    "    axes[i, 0].set_title(f\"Ground Truth #{i}\")\n",
    "    axes[i, 1].imshow(v_pred[i, 0], cmap=\"jet\", vmin=2000, vmax=4000)\n",
    "    axes[i, 1].set_title(f\"Prediction #{i}\")\n",
    "plt.tight_layout()\n",
    "plt.show()\n"
   ]
  }
 ],
 "metadata": {},
 "nbformat": 4,
 "nbformat_minor": 5
}
