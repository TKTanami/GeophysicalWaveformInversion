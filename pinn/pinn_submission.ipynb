{
 "cells": [
  {
   "cell_type": "markdown",
   "id": "0ba69cdc",
   "metadata": {},
   "source": [
    "# testを読み込んでsubmission.csvを出力する\n"
   ]
  },
  {
   "cell_type": "code",
   "execution_count": 1,
   "id": "9419351b",
   "metadata": {},
   "outputs": [
    {
     "name": "stdout",
     "output_type": "stream",
     "text": [
      "Using device: cuda\n"
     ]
    }
   ],
   "source": [
    "import os\n",
    "import numpy as np\n",
    "import torch\n",
    "import pandas as pd\n",
    "\n",
    "# 1) Device setup\n",
    "device = torch.device('cuda' if torch.cuda.is_available() else 'cpu')\n",
    "print('Using device:', device)\n"
   ]
  },
  {
   "cell_type": "markdown",
   "id": "7c621080",
   "metadata": {},
   "source": [
    "# 適切なモデル構造を最初に作って、その後に学習済みモデルを読み込む"
   ]
  },
  {
   "cell_type": "code",
   "execution_count": 2,
   "id": "3289c03d",
   "metadata": {},
   "outputs": [
    {
     "data": {
      "text/plain": [
       "WaveformEncoder(\n",
       "  (conv1): Conv3d(1, 16, kernel_size=(3, 5, 3), stride=(1, 1, 1), padding=(1, 1, 1))\n",
       "  (conv2): Conv3d(16, 32, kernel_size=(3, 3, 3), stride=(1, 1, 1), padding=(1, 1, 1))\n",
       "  (pool): AdaptiveAvgPool3d(output_size=(1, 10, 10))\n",
       "  (fc): Linear(in_features=3200, out_features=1024, bias=True)\n",
       "  (out): Linear(in_features=1024, out_features=4900, bias=True)\n",
       ")"
      ]
     },
     "execution_count": 2,
     "metadata": {},
     "output_type": "execute_result"
    }
   ],
   "source": [
    "import torch\n",
    "import torch.nn as nn\n",
    "import torch.nn.functional as F\n",
    "\n",
    "class WaveformEncoder(nn.Module):\n",
    "    def __init__(self):\n",
    "        super().__init__()\n",
    "        self.conv1 = nn.Conv3d(1, 16, kernel_size=(3, 5, 3), padding=1)\n",
    "        self.conv2 = nn.Conv3d(16, 32, kernel_size=3, padding=1)\n",
    "        self.pool = nn.AdaptiveAvgPool3d((1, 10, 10))   # 空間特徴を維持！\n",
    "        self.fc = nn.Linear(32 * 10 * 10, 1024)\n",
    "        self.out = nn.Linear(1024, 70 * 70)\n",
    "\n",
    "    def forward(self, x):  # [B, 5, 1000, 7]\n",
    "        x = x.unsqueeze(1)  # [B,1,5,1000,7]\n",
    "        x = F.relu(self.conv1(x))\n",
    "        x = F.relu(self.conv2(x))\n",
    "        x = self.pool(x)                   # [B,32,1,10,10]\n",
    "        x = x.view(x.size(0), -1)          # [B, 32*10*10]\n",
    "        x = F.relu(self.fc(x))\n",
    "        x = self.out(x)\n",
    "        return x.view(-1, 1, 70, 70)       # [B, 1, 70, 70]\n",
    "\n",
    "# Load pretrained model\n",
    "model = WaveformEncoder().to(device)\n",
    "model.load_state_dict(torch.load(\"best_pinn_model.pth\", map_location=device))\n",
    "model.eval()\n",
    "\n",
    "\n"
   ]
  },
  {
   "cell_type": "markdown",
   "id": "07fe5744",
   "metadata": {},
   "source": [
    "# 学習済みモデルでテストデータに対して推論。その後csvデータを出力"
   ]
  },
  {
   "cell_type": "code",
   "execution_count": null,
   "id": "6a521616",
   "metadata": {},
   "outputs": [
    {
     "name": "stderr",
     "output_type": "stream",
     "text": [
      "Inference Progress:   1%|▎                           | 100/8228 [00:13<13:03, 10.38it/s]"
     ]
    }
   ],
   "source": [
    "import numpy as np\n",
    "import torch\n",
    "import pandas as pd\n",
    "import os\n",
    "from tqdm import tqdm  # 追加\n",
    "\n",
    "device = torch.device(\"cuda\" if torch.cuda.is_available() else \"cpu\")\n",
    "\n",
    "test_dir = './waveform-inversion/test'\n",
    "test_files = sorted([os.path.join(test_dir, f) for f in os.listdir(test_dir) if f.endswith('.npy')])\n",
    "\n",
    "batch_size = 8  # 調整可能\n",
    "\n",
    "rows = []\n",
    "\n",
    "# tqdmでプログレスバー表示\n",
    "for i in tqdm(range(0, len(test_files), batch_size), desc=\"Inference Progress\"):\n",
    "    batch_files = test_files[i:i+batch_size]\n",
    "    batch_arrs = [np.load(fp) for fp in batch_files]  # list of arrays (5,1000,70)\n",
    "    batch_tensor = torch.from_numpy(np.stack(batch_arrs)).float().to(device)  # (B,5,1000,70)\n",
    "\n",
    "    with torch.no_grad():\n",
    "        outs = model(batch_tensor)  # (B,1,70,70)\n",
    "\n",
    "    outs = outs.squeeze(1).cpu().numpy()  # (B,70,70)\n",
    "\n",
    "    for b, fp in enumerate(batch_files):\n",
    "        fid = os.path.splitext(os.path.basename(fp))[0]\n",
    "        out = outs[b]\n",
    "        for y in range(out.shape[0]):\n",
    "            row = {'oid_ypos': f'{fid}_y_{y}'}\n",
    "            x_vals = {f'x_{2*j+1}': out[y, xpos] for j, xpos in enumerate(range(0, 70, 2))}\n",
    "            row.update(x_vals)\n",
    "            rows.append(row)\n",
    "\n",
    "df = pd.DataFrame(rows)\n",
    "cols = ['oid_ypos'] + [f'x_{i}' for i in range(1, 70, 2)]\n",
    "df = df[cols]\n",
    "\n",
    "df.head()\n",
    "# df.to_csv('submission.csv', index=False)\n"
   ]
  }
 ],
 "metadata": {
  "kernelspec": {
   "display_name": "Python 3 (ipykernel)",
   "language": "python",
   "name": "python3"
  },
  "language_info": {
   "codemirror_mode": {
    "name": "ipython",
    "version": 3
   },
   "file_extension": ".py",
   "mimetype": "text/x-python",
   "name": "python",
   "nbconvert_exporter": "python",
   "pygments_lexer": "ipython3",
   "version": "3.10.12"
  }
 },
 "nbformat": 4,
 "nbformat_minor": 5
}
