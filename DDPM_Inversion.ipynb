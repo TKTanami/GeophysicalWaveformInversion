{
 "cells": [
  {
   "cell_type": "code",
   "execution_count": 1,
   "id": "f23450bf",
   "metadata": {},
   "outputs": [],
   "source": [
    "import numpy as np\n",
    "import os \n",
    "import matplotlib.pyplot as plt\n",
    "import torch\n",
    "import torch.nn as nn\n",
    "import torch.nn.functional as F\n",
    "from torch.utils.data import Dataset, DataLoader\n",
    "from sklearn.model_selection import train_test_split"
   ]
  },
  {
   "cell_type": "code",
   "execution_count": 2,
   "id": "73724972",
   "metadata": {},
   "outputs": [],
   "source": [
    "# a) データ読み込み直後に一度だけ計算しておく\n",
    "all_vels = np.load(\"./dataset_one_batch/train_vels.npy\")   # shape (800,1,70,70)\n",
    "vel_min, vel_max = all_vels.min(), all_vels.max()\n",
    "\n",
    "# b) Dataset 内で正規化／逆正規化\n",
    "class NormWaveformDataset(Dataset):\n",
    "    def __init__(self, waves_path, vels_path, vel_min, vel_max):\n",
    "        self.waves = np.load(waves_path).astype(np.float32)\n",
    "        self.vels  = np.load(vels_path).astype(np.float32)\n",
    "        self.vmin, self.vmax = vel_min, vel_max\n",
    "\n",
    "    def __len__(self): return len(self.waves)\n",
    "    def __getitem__(self, idx):\n",
    "        x = self.waves[idx]\n",
    "        # 波形は global 統計で標準化しても良いです（ここでは簡易に min-max）\n",
    "        x = (x - x.min()) / (x.max() - x.min())\n",
    "        y = self.vels[idx]\n",
    "        # 速度は [vel_min,vel_max] → [0,1]\n",
    "        y_norm = (y - self.vmin) / (self.vmax - self.vmin)\n",
    "        return torch.from_numpy(x).float(), torch.from_numpy(y_norm).float()\n",
    "\n",
    "# c) DataLoader 作成（num_workers=0 推奨）\n",
    "train_ds = NormWaveformDataset(\"./dataset_one_batch/train_waves.npy\",\n",
    "                               \"./dataset_one_batch/train_vels.npy\",\n",
    "                               vel_min, vel_max)\n",
    "val_ds   = NormWaveformDataset(\"./dataset_one_batch/val_waves.npy\",\n",
    "                               \"./dataset_one_batch/val_vels.npy\",\n",
    "                               vel_min, vel_max)\n",
    "train_loader = DataLoader(train_ds, batch_size=16, shuffle=True, num_workers=2, pin_memory=True)\n",
    "val_loader   = DataLoader(val_ds,   batch_size=16, shuffle=False, num_workers=2, pin_memory=True)\n"
   ]
  },
  {
   "cell_type": "code",
   "execution_count": null,
   "id": "758b38d6",
   "metadata": {},
   "outputs": [],
   "source": []
  }
 ],
 "metadata": {
  "kernelspec": {
   "display_name": "Python 3",
   "language": "python",
   "name": "python3"
  },
  "language_info": {
   "codemirror_mode": {
    "name": "ipython",
    "version": 3
   },
   "file_extension": ".py",
   "mimetype": "text/x-python",
   "name": "python",
   "nbconvert_exporter": "python",
   "pygments_lexer": "ipython3",
   "version": "3.10.12"
  }
 },
 "nbformat": 4,
 "nbformat_minor": 5
}
